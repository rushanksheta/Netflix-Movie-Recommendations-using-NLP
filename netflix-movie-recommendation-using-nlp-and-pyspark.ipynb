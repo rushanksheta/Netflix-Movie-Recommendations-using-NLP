{
 "cells": [
  {
   "cell_type": "markdown",
   "id": "bcbba01b",
   "metadata": {
    "papermill": {
     "duration": 0.015024,
     "end_time": "2024-02-12T03:26:49.556295",
     "exception": false,
     "start_time": "2024-02-12T03:26:49.541271",
     "status": "completed"
    },
    "tags": []
   },
   "source": [
    "# Comparison of Recomender System using TF-IDF and Bag of Words Vectorization Methods\n",
    "\n",
    "This project involves building a movie recommendation system based on natural language processing (NLP) techniques, specifically utilizing TF-IDF and Bag of Words approaches. The analysis is conducted in three different contexts: Comedy, War, and Finance.\n",
    "\n",
    "\n",
    "Keywords:<br>\n",
    "Recomender System, Natural Language Processing(NLP), Term Frequency - Inverse Document Frequency(TF-IDF), Bag of Words, Cosine Similarity,Text Vectorization,PySpark, Data Preprocessing, Text Data Analysis, Netflix Data, Text Mining, Python."
   ]
  },
  {
   "cell_type": "code",
   "execution_count": 1,
   "id": "1ce59c33",
   "metadata": {
    "execution": {
     "iopub.execute_input": "2024-02-12T03:26:49.587972Z",
     "iopub.status.busy": "2024-02-12T03:26:49.587125Z",
     "iopub.status.idle": "2024-02-12T03:27:40.092242Z",
     "shell.execute_reply": "2024-02-12T03:27:40.090819Z"
    },
    "papermill": {
     "duration": 50.524011,
     "end_time": "2024-02-12T03:27:40.095225",
     "exception": false,
     "start_time": "2024-02-12T03:26:49.571214",
     "status": "completed"
    },
    "tags": []
   },
   "outputs": [
    {
     "name": "stdout",
     "output_type": "stream",
     "text": [
      "Collecting pyspark\r\n",
      "  Downloading pyspark-3.5.0.tar.gz (316.9 MB)\r\n",
      "\u001b[2K     \u001b[90m━━━━━━━━━━━━━━━━━━━━━━━━━━━━━━━━━━━━━━━\u001b[0m \u001b[32m316.9/316.9 MB\u001b[0m \u001b[31m3.6 MB/s\u001b[0m eta \u001b[36m0:00:00\u001b[0m\r\n",
      "\u001b[?25h  Preparing metadata (setup.py) ... \u001b[?25l-\b \b\\\b \bdone\r\n",
      "\u001b[?25hRequirement already satisfied: py4j==0.10.9.7 in /opt/conda/lib/python3.10/site-packages (from pyspark) (0.10.9.7)\r\n",
      "Building wheels for collected packages: pyspark\r\n",
      "  Building wheel for pyspark (setup.py) ... \u001b[?25l-\b \b\\\b \b|\b \bdone\r\n",
      "\u001b[?25h  Created wheel for pyspark: filename=pyspark-3.5.0-py2.py3-none-any.whl size=317425344 sha256=4b8d53422ac712cacb1a0a883581d4414fd840b81928f923d70afa53adccfe4e\r\n",
      "  Stored in directory: /root/.cache/pip/wheels/41/4e/10/c2cf2467f71c678cfc8a6b9ac9241e5e44a01940da8fbb17fc\r\n",
      "Successfully built pyspark\r\n",
      "Installing collected packages: pyspark\r\n",
      "Successfully installed pyspark-3.5.0\r\n"
     ]
    }
   ],
   "source": [
    "!pip install pyspark"
   ]
  },
  {
   "cell_type": "code",
   "execution_count": 2,
   "id": "c713af82",
   "metadata": {
    "execution": {
     "iopub.execute_input": "2024-02-12T03:27:40.145661Z",
     "iopub.status.busy": "2024-02-12T03:27:40.145259Z",
     "iopub.status.idle": "2024-02-12T03:27:44.528348Z",
     "shell.execute_reply": "2024-02-12T03:27:44.527516Z"
    },
    "papermill": {
     "duration": 4.411176,
     "end_time": "2024-02-12T03:27:44.530786",
     "exception": false,
     "start_time": "2024-02-12T03:27:40.119610",
     "status": "completed"
    },
    "tags": []
   },
   "outputs": [],
   "source": [
    "import numpy as np\n",
    "import pandas as pd\n",
    "\n",
    "import scipy\n",
    "from sklearn.metrics.pairwise import cosine_similarity\n",
    "\n",
    "from pyspark.sql.functions import concat_ws, lower, regexp_replace, concat_ws\n",
    "from pyspark.ml import Pipeline\n",
    "from pyspark.ml.feature import *\n",
    "from pyspark.ml.functions import vector_to_array\n",
    "\n",
    "import plotly.express as px\n",
    "import plotly.io as pio\n",
    "pio.templates.default = \"plotly_white\"\n",
    "import os"
   ]
  },
  {
   "cell_type": "code",
   "execution_count": 3,
   "id": "8bc19cbf",
   "metadata": {
    "_cell_guid": "b1076dfc-b9ad-4769-8c92-a6c4dae69d19",
    "_uuid": "8f2839f25d086af736a60e9eeb907d3b93b6e0e5",
    "execution": {
     "iopub.execute_input": "2024-02-12T03:27:44.579664Z",
     "iopub.status.busy": "2024-02-12T03:27:44.579100Z",
     "iopub.status.idle": "2024-02-12T03:27:44.588751Z",
     "shell.execute_reply": "2024-02-12T03:27:44.587778Z"
    },
    "papermill": {
     "duration": 0.036096,
     "end_time": "2024-02-12T03:27:44.590865",
     "exception": false,
     "start_time": "2024-02-12T03:27:44.554769",
     "status": "completed"
    },
    "tags": []
   },
   "outputs": [
    {
     "name": "stdout",
     "output_type": "stream",
     "text": [
      "/kaggle/input/netflix-shows/netflix_titles.csv\n"
     ]
    }
   ],
   "source": [
    "# validating data existence in the current directory\n",
    "for dirname, _, filenames in os.walk('/kaggle/input'):\n",
    "    for filename in filenames:\n",
    "        print(os.path.join(dirname, filename))"
   ]
  },
  {
   "cell_type": "code",
   "execution_count": 4,
   "id": "1d579ba9",
   "metadata": {
    "execution": {
     "iopub.execute_input": "2024-02-12T03:27:44.641972Z",
     "iopub.status.busy": "2024-02-12T03:27:44.641595Z",
     "iopub.status.idle": "2024-02-12T03:27:51.332518Z",
     "shell.execute_reply": "2024-02-12T03:27:51.331697Z"
    },
    "papermill": {
     "duration": 6.720055,
     "end_time": "2024-02-12T03:27:51.334656",
     "exception": false,
     "start_time": "2024-02-12T03:27:44.614601",
     "status": "completed"
    },
    "tags": []
   },
   "outputs": [
    {
     "name": "stderr",
     "output_type": "stream",
     "text": [
      "Setting default log level to \"WARN\".\n",
      "To adjust logging level use sc.setLogLevel(newLevel). For SparkR, use setLogLevel(newLevel).\n",
      "24/02/12 03:27:48 WARN NativeCodeLoader: Unable to load native-hadoop library for your platform... using builtin-java classes where applicable\n"
     ]
    },
    {
     "data": {
      "text/html": [
       "\n",
       "            <div>\n",
       "                <p><b>SparkSession - in-memory</b></p>\n",
       "                \n",
       "        <div>\n",
       "            <p><b>SparkContext</b></p>\n",
       "\n",
       "            <p><a href=\"http://97e571a9ac0d:4040\">Spark UI</a></p>\n",
       "\n",
       "            <dl>\n",
       "              <dt>Version</dt>\n",
       "                <dd><code>v3.5.0</code></dd>\n",
       "              <dt>Master</dt>\n",
       "                <dd><code>local[*]</code></dd>\n",
       "              <dt>AppName</dt>\n",
       "                <dd><code>spark_nlp_01</code></dd>\n",
       "            </dl>\n",
       "        </div>\n",
       "        \n",
       "            </div>\n",
       "        "
      ],
      "text/plain": [
       "<pyspark.sql.session.SparkSession at 0x7f9800eb5f30>"
      ]
     },
     "execution_count": 4,
     "metadata": {},
     "output_type": "execute_result"
    }
   ],
   "source": [
    "# initialize pyspark\n",
    "import pyspark\n",
    "from pyspark.sql import SparkSession\n",
    "import pyspark.sql.functions as F\n",
    "\n",
    "spark = SparkSession.builder.appName(\"spark_nlp_01\").getOrCreate()\n",
    "spark"
   ]
  },
  {
   "cell_type": "code",
   "execution_count": 5,
   "id": "9e7f6655",
   "metadata": {
    "execution": {
     "iopub.execute_input": "2024-02-12T03:27:51.383600Z",
     "iopub.status.busy": "2024-02-12T03:27:51.382406Z",
     "iopub.status.idle": "2024-02-12T03:27:51.530115Z",
     "shell.execute_reply": "2024-02-12T03:27:51.529125Z"
    },
    "papermill": {
     "duration": 0.174344,
     "end_time": "2024-02-12T03:27:51.532213",
     "exception": false,
     "start_time": "2024-02-12T03:27:51.357869",
     "status": "completed"
    },
    "tags": []
   },
   "outputs": [
    {
     "data": {
      "text/plain": [
       "(8807, 12)"
      ]
     },
     "execution_count": 5,
     "metadata": {},
     "output_type": "execute_result"
    }
   ],
   "source": [
    "# raw data\n",
    "raw = pd.read_csv('/kaggle/input/netflix-shows/netflix_titles.csv')\n",
    "raw.shape"
   ]
  },
  {
   "cell_type": "code",
   "execution_count": 6,
   "id": "7e3e9551",
   "metadata": {
    "execution": {
     "iopub.execute_input": "2024-02-12T03:27:51.580912Z",
     "iopub.status.busy": "2024-02-12T03:27:51.580534Z",
     "iopub.status.idle": "2024-02-12T03:27:51.605832Z",
     "shell.execute_reply": "2024-02-12T03:27:51.604805Z"
    },
    "papermill": {
     "duration": 0.052244,
     "end_time": "2024-02-12T03:27:51.608190",
     "exception": false,
     "start_time": "2024-02-12T03:27:51.555946",
     "status": "completed"
    },
    "tags": []
   },
   "outputs": [
    {
     "data": {
      "text/html": [
       "<div>\n",
       "<style scoped>\n",
       "    .dataframe tbody tr th:only-of-type {\n",
       "        vertical-align: middle;\n",
       "    }\n",
       "\n",
       "    .dataframe tbody tr th {\n",
       "        vertical-align: top;\n",
       "    }\n",
       "\n",
       "    .dataframe thead th {\n",
       "        text-align: right;\n",
       "    }\n",
       "</style>\n",
       "<table border=\"1\" class=\"dataframe\">\n",
       "  <thead>\n",
       "    <tr style=\"text-align: right;\">\n",
       "      <th></th>\n",
       "      <th>show_id</th>\n",
       "      <th>type</th>\n",
       "      <th>title</th>\n",
       "      <th>director</th>\n",
       "      <th>cast</th>\n",
       "      <th>country</th>\n",
       "      <th>date_added</th>\n",
       "      <th>release_year</th>\n",
       "      <th>rating</th>\n",
       "      <th>duration</th>\n",
       "      <th>listed_in</th>\n",
       "      <th>description</th>\n",
       "    </tr>\n",
       "  </thead>\n",
       "  <tbody>\n",
       "    <tr>\n",
       "      <th>0</th>\n",
       "      <td>s1</td>\n",
       "      <td>Movie</td>\n",
       "      <td>Dick Johnson Is Dead</td>\n",
       "      <td>Kirsten Johnson</td>\n",
       "      <td>NaN</td>\n",
       "      <td>United States</td>\n",
       "      <td>September 25, 2021</td>\n",
       "      <td>2020</td>\n",
       "      <td>PG-13</td>\n",
       "      <td>90 min</td>\n",
       "      <td>Documentaries</td>\n",
       "      <td>As her father nears the end of his life, filmm...</td>\n",
       "    </tr>\n",
       "    <tr>\n",
       "      <th>1</th>\n",
       "      <td>s2</td>\n",
       "      <td>TV Show</td>\n",
       "      <td>Blood &amp; Water</td>\n",
       "      <td>NaN</td>\n",
       "      <td>Ama Qamata, Khosi Ngema, Gail Mabalane, Thaban...</td>\n",
       "      <td>South Africa</td>\n",
       "      <td>September 24, 2021</td>\n",
       "      <td>2021</td>\n",
       "      <td>TV-MA</td>\n",
       "      <td>2 Seasons</td>\n",
       "      <td>International TV Shows, TV Dramas, TV Mysteries</td>\n",
       "      <td>After crossing paths at a party, a Cape Town t...</td>\n",
       "    </tr>\n",
       "    <tr>\n",
       "      <th>2</th>\n",
       "      <td>s3</td>\n",
       "      <td>TV Show</td>\n",
       "      <td>Ganglands</td>\n",
       "      <td>Julien Leclercq</td>\n",
       "      <td>Sami Bouajila, Tracy Gotoas, Samuel Jouy, Nabi...</td>\n",
       "      <td>NaN</td>\n",
       "      <td>September 24, 2021</td>\n",
       "      <td>2021</td>\n",
       "      <td>TV-MA</td>\n",
       "      <td>1 Season</td>\n",
       "      <td>Crime TV Shows, International TV Shows, TV Act...</td>\n",
       "      <td>To protect his family from a powerful drug lor...</td>\n",
       "    </tr>\n",
       "    <tr>\n",
       "      <th>3</th>\n",
       "      <td>s4</td>\n",
       "      <td>TV Show</td>\n",
       "      <td>Jailbirds New Orleans</td>\n",
       "      <td>NaN</td>\n",
       "      <td>NaN</td>\n",
       "      <td>NaN</td>\n",
       "      <td>September 24, 2021</td>\n",
       "      <td>2021</td>\n",
       "      <td>TV-MA</td>\n",
       "      <td>1 Season</td>\n",
       "      <td>Docuseries, Reality TV</td>\n",
       "      <td>Feuds, flirtations and toilet talk go down amo...</td>\n",
       "    </tr>\n",
       "    <tr>\n",
       "      <th>4</th>\n",
       "      <td>s5</td>\n",
       "      <td>TV Show</td>\n",
       "      <td>Kota Factory</td>\n",
       "      <td>NaN</td>\n",
       "      <td>Mayur More, Jitendra Kumar, Ranjan Raj, Alam K...</td>\n",
       "      <td>India</td>\n",
       "      <td>September 24, 2021</td>\n",
       "      <td>2021</td>\n",
       "      <td>TV-MA</td>\n",
       "      <td>2 Seasons</td>\n",
       "      <td>International TV Shows, Romantic TV Shows, TV ...</td>\n",
       "      <td>In a city of coaching centers known to train I...</td>\n",
       "    </tr>\n",
       "  </tbody>\n",
       "</table>\n",
       "</div>"
      ],
      "text/plain": [
       "  show_id     type                  title         director  \\\n",
       "0      s1    Movie   Dick Johnson Is Dead  Kirsten Johnson   \n",
       "1      s2  TV Show          Blood & Water              NaN   \n",
       "2      s3  TV Show              Ganglands  Julien Leclercq   \n",
       "3      s4  TV Show  Jailbirds New Orleans              NaN   \n",
       "4      s5  TV Show           Kota Factory              NaN   \n",
       "\n",
       "                                                cast        country  \\\n",
       "0                                                NaN  United States   \n",
       "1  Ama Qamata, Khosi Ngema, Gail Mabalane, Thaban...   South Africa   \n",
       "2  Sami Bouajila, Tracy Gotoas, Samuel Jouy, Nabi...            NaN   \n",
       "3                                                NaN            NaN   \n",
       "4  Mayur More, Jitendra Kumar, Ranjan Raj, Alam K...          India   \n",
       "\n",
       "           date_added  release_year rating   duration  \\\n",
       "0  September 25, 2021          2020  PG-13     90 min   \n",
       "1  September 24, 2021          2021  TV-MA  2 Seasons   \n",
       "2  September 24, 2021          2021  TV-MA   1 Season   \n",
       "3  September 24, 2021          2021  TV-MA   1 Season   \n",
       "4  September 24, 2021          2021  TV-MA  2 Seasons   \n",
       "\n",
       "                                           listed_in  \\\n",
       "0                                      Documentaries   \n",
       "1    International TV Shows, TV Dramas, TV Mysteries   \n",
       "2  Crime TV Shows, International TV Shows, TV Act...   \n",
       "3                             Docuseries, Reality TV   \n",
       "4  International TV Shows, Romantic TV Shows, TV ...   \n",
       "\n",
       "                                         description  \n",
       "0  As her father nears the end of his life, filmm...  \n",
       "1  After crossing paths at a party, a Cape Town t...  \n",
       "2  To protect his family from a powerful drug lor...  \n",
       "3  Feuds, flirtations and toilet talk go down amo...  \n",
       "4  In a city of coaching centers known to train I...  "
      ]
     },
     "execution_count": 6,
     "metadata": {},
     "output_type": "execute_result"
    }
   ],
   "source": [
    " raw.head()"
   ]
  },
  {
   "cell_type": "code",
   "execution_count": 7,
   "id": "fc0fae59",
   "metadata": {
    "execution": {
     "iopub.execute_input": "2024-02-12T03:27:51.659355Z",
     "iopub.status.busy": "2024-02-12T03:27:51.658954Z",
     "iopub.status.idle": "2024-02-12T03:27:51.694453Z",
     "shell.execute_reply": "2024-02-12T03:27:51.693538Z"
    },
    "papermill": {
     "duration": 0.064665,
     "end_time": "2024-02-12T03:27:51.697065",
     "exception": false,
     "start_time": "2024-02-12T03:27:51.632400",
     "status": "completed"
    },
    "tags": []
   },
   "outputs": [
    {
     "name": "stdout",
     "output_type": "stream",
     "text": [
      "<class 'pandas.core.frame.DataFrame'>\n",
      "RangeIndex: 8807 entries, 0 to 8806\n",
      "Data columns (total 12 columns):\n",
      " #   Column        Non-Null Count  Dtype \n",
      "---  ------        --------------  ----- \n",
      " 0   show_id       8807 non-null   object\n",
      " 1   type          8807 non-null   object\n",
      " 2   title         8807 non-null   object\n",
      " 3   director      6173 non-null   object\n",
      " 4   cast          7982 non-null   object\n",
      " 5   country       7976 non-null   object\n",
      " 6   date_added    8797 non-null   object\n",
      " 7   release_year  8807 non-null   int64 \n",
      " 8   rating        8803 non-null   object\n",
      " 9   duration      8804 non-null   object\n",
      " 10  listed_in     8807 non-null   object\n",
      " 11  description   8807 non-null   object\n",
      "dtypes: int64(1), object(11)\n",
      "memory usage: 825.8+ KB\n"
     ]
    }
   ],
   "source": [
    "raw.info()"
   ]
  },
  {
   "cell_type": "code",
   "execution_count": 8,
   "id": "4d925b16",
   "metadata": {
    "execution": {
     "iopub.execute_input": "2024-02-12T03:27:51.748514Z",
     "iopub.status.busy": "2024-02-12T03:27:51.748126Z",
     "iopub.status.idle": "2024-02-12T03:27:51.765457Z",
     "shell.execute_reply": "2024-02-12T03:27:51.764726Z"
    },
    "papermill": {
     "duration": 0.046026,
     "end_time": "2024-02-12T03:27:51.767971",
     "exception": false,
     "start_time": "2024-02-12T03:27:51.721945",
     "status": "completed"
    },
    "tags": []
   },
   "outputs": [
    {
     "data": {
      "text/plain": [
       "show_id            0\n",
       "type               0\n",
       "title              0\n",
       "director        2634\n",
       "cast             825\n",
       "country          831\n",
       "date_added        10\n",
       "release_year       0\n",
       "rating             4\n",
       "duration           3\n",
       "listed_in          0\n",
       "description        0\n",
       "dtype: int64"
      ]
     },
     "execution_count": 8,
     "metadata": {},
     "output_type": "execute_result"
    }
   ],
   "source": [
    "# check for NaN values\n",
    "raw.isna().sum()"
   ]
  },
  {
   "cell_type": "code",
   "execution_count": 9,
   "id": "22e9f7fe",
   "metadata": {
    "execution": {
     "iopub.execute_input": "2024-02-12T03:27:51.817329Z",
     "iopub.status.busy": "2024-02-12T03:27:51.816379Z",
     "iopub.status.idle": "2024-02-12T03:27:51.846451Z",
     "shell.execute_reply": "2024-02-12T03:27:51.845517Z"
    },
    "papermill": {
     "duration": 0.056361,
     "end_time": "2024-02-12T03:27:51.848415",
     "exception": false,
     "start_time": "2024-02-12T03:27:51.792054",
     "status": "completed"
    },
    "tags": []
   },
   "outputs": [
    {
     "data": {
      "text/plain": [
       "show_id         8807\n",
       "type               2\n",
       "title           8807\n",
       "director        4528\n",
       "cast            7692\n",
       "country          748\n",
       "date_added      1767\n",
       "release_year      74\n",
       "rating            17\n",
       "duration         220\n",
       "listed_in        514\n",
       "description     8775\n",
       "dtype: int64"
      ]
     },
     "execution_count": 9,
     "metadata": {},
     "output_type": "execute_result"
    }
   ],
   "source": [
    "# unique values in each column\n",
    "raw.nunique()"
   ]
  },
  {
   "cell_type": "code",
   "execution_count": 10,
   "id": "cff38d6e",
   "metadata": {
    "execution": {
     "iopub.execute_input": "2024-02-12T03:27:51.899505Z",
     "iopub.status.busy": "2024-02-12T03:27:51.898633Z",
     "iopub.status.idle": "2024-02-12T03:27:52.480785Z",
     "shell.execute_reply": "2024-02-12T03:27:52.479416Z"
    },
    "papermill": {
     "duration": 0.611549,
     "end_time": "2024-02-12T03:27:52.484289",
     "exception": false,
     "start_time": "2024-02-12T03:27:51.872740",
     "status": "completed"
    },
    "tags": []
   },
   "outputs": [
    {
     "data": {
      "text/html": [
       "        <script type=\"text/javascript\">\n",
       "        window.PlotlyConfig = {MathJaxConfig: 'local'};\n",
       "        if (window.MathJax && window.MathJax.Hub && window.MathJax.Hub.Config) {window.MathJax.Hub.Config({SVG: {font: \"STIX-Web\"}});}\n",
       "        if (typeof require !== 'undefined') {\n",
       "        require.undef(\"plotly\");\n",
       "        requirejs.config({\n",
       "            paths: {\n",
       "                'plotly': ['https://cdn.plot.ly/plotly-2.25.2.min']\n",
       "            }\n",
       "        });\n",
       "        require(['plotly'], function(Plotly) {\n",
       "            window._Plotly = Plotly;\n",
       "        });\n",
       "        }\n",
       "        </script>\n",
       "        "
      ]
     },
     "metadata": {},
     "output_type": "display_data"
    },
    {
     "data": {
      "text/html": [
       "<div>                            <div id=\"995fe251-7c05-4eee-84bd-a6998dfcd33b\" class=\"plotly-graph-div\" style=\"height:525px; width:100%;\"></div>            <script type=\"text/javascript\">                require([\"plotly\"], function(Plotly) {                    window.PLOTLYENV=window.PLOTLYENV || {};                                    if (document.getElementById(\"995fe251-7c05-4eee-84bd-a6998dfcd33b\")) {                    Plotly.newPlot(                        \"995fe251-7c05-4eee-84bd-a6998dfcd33b\",                        [{\"alignmentgroup\":\"True\",\"hovertemplate\":\"variable=%{x}\\u003cbr\\u003evalue=%{text}\\u003cextra\\u003e\\u003c\\u002fextra\\u003e\",\"legendgroup\":\"show_id\",\"marker\":{\"color\":\"#636efa\",\"pattern\":{\"shape\":\"\"}},\"name\":\"show_id\",\"offsetgroup\":\"show_id\",\"orientation\":\"v\",\"showlegend\":true,\"text\":[8807.0],\"textposition\":\"outside\",\"x\":[\"show_id\"],\"xaxis\":\"x\",\"y\":[8807],\"yaxis\":\"y\",\"type\":\"bar\",\"texttemplate\":\"%{text}\"},{\"alignmentgroup\":\"True\",\"hovertemplate\":\"variable=%{x}\\u003cbr\\u003evalue=%{text}\\u003cextra\\u003e\\u003c\\u002fextra\\u003e\",\"legendgroup\":\"type\",\"marker\":{\"color\":\"#EF553B\",\"pattern\":{\"shape\":\"\"}},\"name\":\"type\",\"offsetgroup\":\"type\",\"orientation\":\"v\",\"showlegend\":true,\"text\":[2.0],\"textposition\":\"outside\",\"x\":[\"type\"],\"xaxis\":\"x\",\"y\":[2],\"yaxis\":\"y\",\"type\":\"bar\",\"texttemplate\":\"%{text}\"},{\"alignmentgroup\":\"True\",\"hovertemplate\":\"variable=%{x}\\u003cbr\\u003evalue=%{text}\\u003cextra\\u003e\\u003c\\u002fextra\\u003e\",\"legendgroup\":\"title\",\"marker\":{\"color\":\"#00cc96\",\"pattern\":{\"shape\":\"\"}},\"name\":\"title\",\"offsetgroup\":\"title\",\"orientation\":\"v\",\"showlegend\":true,\"text\":[8807.0],\"textposition\":\"outside\",\"x\":[\"title\"],\"xaxis\":\"x\",\"y\":[8807],\"yaxis\":\"y\",\"type\":\"bar\",\"texttemplate\":\"%{text}\"},{\"alignmentgroup\":\"True\",\"hovertemplate\":\"variable=%{x}\\u003cbr\\u003evalue=%{text}\\u003cextra\\u003e\\u003c\\u002fextra\\u003e\",\"legendgroup\":\"director\",\"marker\":{\"color\":\"#ab63fa\",\"pattern\":{\"shape\":\"\"}},\"name\":\"director\",\"offsetgroup\":\"director\",\"orientation\":\"v\",\"showlegend\":true,\"text\":[4528.0],\"textposition\":\"outside\",\"x\":[\"director\"],\"xaxis\":\"x\",\"y\":[4528],\"yaxis\":\"y\",\"type\":\"bar\",\"texttemplate\":\"%{text}\"},{\"alignmentgroup\":\"True\",\"hovertemplate\":\"variable=%{x}\\u003cbr\\u003evalue=%{text}\\u003cextra\\u003e\\u003c\\u002fextra\\u003e\",\"legendgroup\":\"cast\",\"marker\":{\"color\":\"#FFA15A\",\"pattern\":{\"shape\":\"\"}},\"name\":\"cast\",\"offsetgroup\":\"cast\",\"orientation\":\"v\",\"showlegend\":true,\"text\":[7692.0],\"textposition\":\"outside\",\"x\":[\"cast\"],\"xaxis\":\"x\",\"y\":[7692],\"yaxis\":\"y\",\"type\":\"bar\",\"texttemplate\":\"%{text}\"},{\"alignmentgroup\":\"True\",\"hovertemplate\":\"variable=%{x}\\u003cbr\\u003evalue=%{text}\\u003cextra\\u003e\\u003c\\u002fextra\\u003e\",\"legendgroup\":\"country\",\"marker\":{\"color\":\"#19d3f3\",\"pattern\":{\"shape\":\"\"}},\"name\":\"country\",\"offsetgroup\":\"country\",\"orientation\":\"v\",\"showlegend\":true,\"text\":[748.0],\"textposition\":\"outside\",\"x\":[\"country\"],\"xaxis\":\"x\",\"y\":[748],\"yaxis\":\"y\",\"type\":\"bar\",\"texttemplate\":\"%{text}\"},{\"alignmentgroup\":\"True\",\"hovertemplate\":\"variable=%{x}\\u003cbr\\u003evalue=%{text}\\u003cextra\\u003e\\u003c\\u002fextra\\u003e\",\"legendgroup\":\"date_added\",\"marker\":{\"color\":\"#FF6692\",\"pattern\":{\"shape\":\"\"}},\"name\":\"date_added\",\"offsetgroup\":\"date_added\",\"orientation\":\"v\",\"showlegend\":true,\"text\":[1767.0],\"textposition\":\"outside\",\"x\":[\"date_added\"],\"xaxis\":\"x\",\"y\":[1767],\"yaxis\":\"y\",\"type\":\"bar\",\"texttemplate\":\"%{text}\"},{\"alignmentgroup\":\"True\",\"hovertemplate\":\"variable=%{x}\\u003cbr\\u003evalue=%{text}\\u003cextra\\u003e\\u003c\\u002fextra\\u003e\",\"legendgroup\":\"release_year\",\"marker\":{\"color\":\"#B6E880\",\"pattern\":{\"shape\":\"\"}},\"name\":\"release_year\",\"offsetgroup\":\"release_year\",\"orientation\":\"v\",\"showlegend\":true,\"text\":[74.0],\"textposition\":\"outside\",\"x\":[\"release_year\"],\"xaxis\":\"x\",\"y\":[74],\"yaxis\":\"y\",\"type\":\"bar\",\"texttemplate\":\"%{text}\"},{\"alignmentgroup\":\"True\",\"hovertemplate\":\"variable=%{x}\\u003cbr\\u003evalue=%{text}\\u003cextra\\u003e\\u003c\\u002fextra\\u003e\",\"legendgroup\":\"rating\",\"marker\":{\"color\":\"#FF97FF\",\"pattern\":{\"shape\":\"\"}},\"name\":\"rating\",\"offsetgroup\":\"rating\",\"orientation\":\"v\",\"showlegend\":true,\"text\":[17.0],\"textposition\":\"outside\",\"x\":[\"rating\"],\"xaxis\":\"x\",\"y\":[17],\"yaxis\":\"y\",\"type\":\"bar\",\"texttemplate\":\"%{text}\"},{\"alignmentgroup\":\"True\",\"hovertemplate\":\"variable=%{x}\\u003cbr\\u003evalue=%{text}\\u003cextra\\u003e\\u003c\\u002fextra\\u003e\",\"legendgroup\":\"duration\",\"marker\":{\"color\":\"#FECB52\",\"pattern\":{\"shape\":\"\"}},\"name\":\"duration\",\"offsetgroup\":\"duration\",\"orientation\":\"v\",\"showlegend\":true,\"text\":[220.0],\"textposition\":\"outside\",\"x\":[\"duration\"],\"xaxis\":\"x\",\"y\":[220],\"yaxis\":\"y\",\"type\":\"bar\",\"texttemplate\":\"%{text}\"},{\"alignmentgroup\":\"True\",\"hovertemplate\":\"variable=%{x}\\u003cbr\\u003evalue=%{text}\\u003cextra\\u003e\\u003c\\u002fextra\\u003e\",\"legendgroup\":\"listed_in\",\"marker\":{\"color\":\"#636efa\",\"pattern\":{\"shape\":\"\"}},\"name\":\"listed_in\",\"offsetgroup\":\"listed_in\",\"orientation\":\"v\",\"showlegend\":true,\"text\":[514.0],\"textposition\":\"outside\",\"x\":[\"listed_in\"],\"xaxis\":\"x\",\"y\":[514],\"yaxis\":\"y\",\"type\":\"bar\",\"texttemplate\":\"%{text}\"},{\"alignmentgroup\":\"True\",\"hovertemplate\":\"variable=%{x}\\u003cbr\\u003evalue=%{text}\\u003cextra\\u003e\\u003c\\u002fextra\\u003e\",\"legendgroup\":\"description\",\"marker\":{\"color\":\"#EF553B\",\"pattern\":{\"shape\":\"\"}},\"name\":\"description\",\"offsetgroup\":\"description\",\"orientation\":\"v\",\"showlegend\":true,\"text\":[8775.0],\"textposition\":\"outside\",\"x\":[\"description\"],\"xaxis\":\"x\",\"y\":[8775],\"yaxis\":\"y\",\"type\":\"bar\",\"texttemplate\":\"%{text}\"}],                        {\"template\":{\"data\":{\"histogram2dcontour\":[{\"type\":\"histogram2dcontour\",\"colorbar\":{\"outlinewidth\":0,\"ticks\":\"\"},\"colorscale\":[[0.0,\"#0d0887\"],[0.1111111111111111,\"#46039f\"],[0.2222222222222222,\"#7201a8\"],[0.3333333333333333,\"#9c179e\"],[0.4444444444444444,\"#bd3786\"],[0.5555555555555556,\"#d8576b\"],[0.6666666666666666,\"#ed7953\"],[0.7777777777777778,\"#fb9f3a\"],[0.8888888888888888,\"#fdca26\"],[1.0,\"#f0f921\"]]}],\"choropleth\":[{\"type\":\"choropleth\",\"colorbar\":{\"outlinewidth\":0,\"ticks\":\"\"}}],\"histogram2d\":[{\"type\":\"histogram2d\",\"colorbar\":{\"outlinewidth\":0,\"ticks\":\"\"},\"colorscale\":[[0.0,\"#0d0887\"],[0.1111111111111111,\"#46039f\"],[0.2222222222222222,\"#7201a8\"],[0.3333333333333333,\"#9c179e\"],[0.4444444444444444,\"#bd3786\"],[0.5555555555555556,\"#d8576b\"],[0.6666666666666666,\"#ed7953\"],[0.7777777777777778,\"#fb9f3a\"],[0.8888888888888888,\"#fdca26\"],[1.0,\"#f0f921\"]]}],\"heatmap\":[{\"type\":\"heatmap\",\"colorbar\":{\"outlinewidth\":0,\"ticks\":\"\"},\"colorscale\":[[0.0,\"#0d0887\"],[0.1111111111111111,\"#46039f\"],[0.2222222222222222,\"#7201a8\"],[0.3333333333333333,\"#9c179e\"],[0.4444444444444444,\"#bd3786\"],[0.5555555555555556,\"#d8576b\"],[0.6666666666666666,\"#ed7953\"],[0.7777777777777778,\"#fb9f3a\"],[0.8888888888888888,\"#fdca26\"],[1.0,\"#f0f921\"]]}],\"heatmapgl\":[{\"type\":\"heatmapgl\",\"colorbar\":{\"outlinewidth\":0,\"ticks\":\"\"},\"colorscale\":[[0.0,\"#0d0887\"],[0.1111111111111111,\"#46039f\"],[0.2222222222222222,\"#7201a8\"],[0.3333333333333333,\"#9c179e\"],[0.4444444444444444,\"#bd3786\"],[0.5555555555555556,\"#d8576b\"],[0.6666666666666666,\"#ed7953\"],[0.7777777777777778,\"#fb9f3a\"],[0.8888888888888888,\"#fdca26\"],[1.0,\"#f0f921\"]]}],\"contourcarpet\":[{\"type\":\"contourcarpet\",\"colorbar\":{\"outlinewidth\":0,\"ticks\":\"\"}}],\"contour\":[{\"type\":\"contour\",\"colorbar\":{\"outlinewidth\":0,\"ticks\":\"\"},\"colorscale\":[[0.0,\"#0d0887\"],[0.1111111111111111,\"#46039f\"],[0.2222222222222222,\"#7201a8\"],[0.3333333333333333,\"#9c179e\"],[0.4444444444444444,\"#bd3786\"],[0.5555555555555556,\"#d8576b\"],[0.6666666666666666,\"#ed7953\"],[0.7777777777777778,\"#fb9f3a\"],[0.8888888888888888,\"#fdca26\"],[1.0,\"#f0f921\"]]}],\"surface\":[{\"type\":\"surface\",\"colorbar\":{\"outlinewidth\":0,\"ticks\":\"\"},\"colorscale\":[[0.0,\"#0d0887\"],[0.1111111111111111,\"#46039f\"],[0.2222222222222222,\"#7201a8\"],[0.3333333333333333,\"#9c179e\"],[0.4444444444444444,\"#bd3786\"],[0.5555555555555556,\"#d8576b\"],[0.6666666666666666,\"#ed7953\"],[0.7777777777777778,\"#fb9f3a\"],[0.8888888888888888,\"#fdca26\"],[1.0,\"#f0f921\"]]}],\"mesh3d\":[{\"type\":\"mesh3d\",\"colorbar\":{\"outlinewidth\":0,\"ticks\":\"\"}}],\"scatter\":[{\"fillpattern\":{\"fillmode\":\"overlay\",\"size\":10,\"solidity\":0.2},\"type\":\"scatter\"}],\"parcoords\":[{\"type\":\"parcoords\",\"line\":{\"colorbar\":{\"outlinewidth\":0,\"ticks\":\"\"}}}],\"scatterpolargl\":[{\"type\":\"scatterpolargl\",\"marker\":{\"colorbar\":{\"outlinewidth\":0,\"ticks\":\"\"}}}],\"bar\":[{\"error_x\":{\"color\":\"#2a3f5f\"},\"error_y\":{\"color\":\"#2a3f5f\"},\"marker\":{\"line\":{\"color\":\"white\",\"width\":0.5},\"pattern\":{\"fillmode\":\"overlay\",\"size\":10,\"solidity\":0.2}},\"type\":\"bar\"}],\"scattergeo\":[{\"type\":\"scattergeo\",\"marker\":{\"colorbar\":{\"outlinewidth\":0,\"ticks\":\"\"}}}],\"scatterpolar\":[{\"type\":\"scatterpolar\",\"marker\":{\"colorbar\":{\"outlinewidth\":0,\"ticks\":\"\"}}}],\"histogram\":[{\"marker\":{\"pattern\":{\"fillmode\":\"overlay\",\"size\":10,\"solidity\":0.2}},\"type\":\"histogram\"}],\"scattergl\":[{\"type\":\"scattergl\",\"marker\":{\"colorbar\":{\"outlinewidth\":0,\"ticks\":\"\"}}}],\"scatter3d\":[{\"type\":\"scatter3d\",\"line\":{\"colorbar\":{\"outlinewidth\":0,\"ticks\":\"\"}},\"marker\":{\"colorbar\":{\"outlinewidth\":0,\"ticks\":\"\"}}}],\"scattermapbox\":[{\"type\":\"scattermapbox\",\"marker\":{\"colorbar\":{\"outlinewidth\":0,\"ticks\":\"\"}}}],\"scatterternary\":[{\"type\":\"scatterternary\",\"marker\":{\"colorbar\":{\"outlinewidth\":0,\"ticks\":\"\"}}}],\"scattercarpet\":[{\"type\":\"scattercarpet\",\"marker\":{\"colorbar\":{\"outlinewidth\":0,\"ticks\":\"\"}}}],\"carpet\":[{\"aaxis\":{\"endlinecolor\":\"#2a3f5f\",\"gridcolor\":\"#C8D4E3\",\"linecolor\":\"#C8D4E3\",\"minorgridcolor\":\"#C8D4E3\",\"startlinecolor\":\"#2a3f5f\"},\"baxis\":{\"endlinecolor\":\"#2a3f5f\",\"gridcolor\":\"#C8D4E3\",\"linecolor\":\"#C8D4E3\",\"minorgridcolor\":\"#C8D4E3\",\"startlinecolor\":\"#2a3f5f\"},\"type\":\"carpet\"}],\"table\":[{\"cells\":{\"fill\":{\"color\":\"#EBF0F8\"},\"line\":{\"color\":\"white\"}},\"header\":{\"fill\":{\"color\":\"#C8D4E3\"},\"line\":{\"color\":\"white\"}},\"type\":\"table\"}],\"barpolar\":[{\"marker\":{\"line\":{\"color\":\"white\",\"width\":0.5},\"pattern\":{\"fillmode\":\"overlay\",\"size\":10,\"solidity\":0.2}},\"type\":\"barpolar\"}],\"pie\":[{\"automargin\":true,\"type\":\"pie\"}]},\"layout\":{\"autotypenumbers\":\"strict\",\"colorway\":[\"#636efa\",\"#EF553B\",\"#00cc96\",\"#ab63fa\",\"#FFA15A\",\"#19d3f3\",\"#FF6692\",\"#B6E880\",\"#FF97FF\",\"#FECB52\"],\"font\":{\"color\":\"#2a3f5f\"},\"hovermode\":\"closest\",\"hoverlabel\":{\"align\":\"left\"},\"paper_bgcolor\":\"white\",\"plot_bgcolor\":\"white\",\"polar\":{\"bgcolor\":\"white\",\"angularaxis\":{\"gridcolor\":\"#EBF0F8\",\"linecolor\":\"#EBF0F8\",\"ticks\":\"\"},\"radialaxis\":{\"gridcolor\":\"#EBF0F8\",\"linecolor\":\"#EBF0F8\",\"ticks\":\"\"}},\"ternary\":{\"bgcolor\":\"white\",\"aaxis\":{\"gridcolor\":\"#DFE8F3\",\"linecolor\":\"#A2B1C6\",\"ticks\":\"\"},\"baxis\":{\"gridcolor\":\"#DFE8F3\",\"linecolor\":\"#A2B1C6\",\"ticks\":\"\"},\"caxis\":{\"gridcolor\":\"#DFE8F3\",\"linecolor\":\"#A2B1C6\",\"ticks\":\"\"}},\"coloraxis\":{\"colorbar\":{\"outlinewidth\":0,\"ticks\":\"\"}},\"colorscale\":{\"sequential\":[[0.0,\"#0d0887\"],[0.1111111111111111,\"#46039f\"],[0.2222222222222222,\"#7201a8\"],[0.3333333333333333,\"#9c179e\"],[0.4444444444444444,\"#bd3786\"],[0.5555555555555556,\"#d8576b\"],[0.6666666666666666,\"#ed7953\"],[0.7777777777777778,\"#fb9f3a\"],[0.8888888888888888,\"#fdca26\"],[1.0,\"#f0f921\"]],\"sequentialminus\":[[0.0,\"#0d0887\"],[0.1111111111111111,\"#46039f\"],[0.2222222222222222,\"#7201a8\"],[0.3333333333333333,\"#9c179e\"],[0.4444444444444444,\"#bd3786\"],[0.5555555555555556,\"#d8576b\"],[0.6666666666666666,\"#ed7953\"],[0.7777777777777778,\"#fb9f3a\"],[0.8888888888888888,\"#fdca26\"],[1.0,\"#f0f921\"]],\"diverging\":[[0,\"#8e0152\"],[0.1,\"#c51b7d\"],[0.2,\"#de77ae\"],[0.3,\"#f1b6da\"],[0.4,\"#fde0ef\"],[0.5,\"#f7f7f7\"],[0.6,\"#e6f5d0\"],[0.7,\"#b8e186\"],[0.8,\"#7fbc41\"],[0.9,\"#4d9221\"],[1,\"#276419\"]]},\"xaxis\":{\"gridcolor\":\"#EBF0F8\",\"linecolor\":\"#EBF0F8\",\"ticks\":\"\",\"title\":{\"standoff\":15},\"zerolinecolor\":\"#EBF0F8\",\"automargin\":true,\"zerolinewidth\":2},\"yaxis\":{\"gridcolor\":\"#EBF0F8\",\"linecolor\":\"#EBF0F8\",\"ticks\":\"\",\"title\":{\"standoff\":15},\"zerolinecolor\":\"#EBF0F8\",\"automargin\":true,\"zerolinewidth\":2},\"scene\":{\"xaxis\":{\"backgroundcolor\":\"white\",\"gridcolor\":\"#DFE8F3\",\"linecolor\":\"#EBF0F8\",\"showbackground\":true,\"ticks\":\"\",\"zerolinecolor\":\"#EBF0F8\",\"gridwidth\":2},\"yaxis\":{\"backgroundcolor\":\"white\",\"gridcolor\":\"#DFE8F3\",\"linecolor\":\"#EBF0F8\",\"showbackground\":true,\"ticks\":\"\",\"zerolinecolor\":\"#EBF0F8\",\"gridwidth\":2},\"zaxis\":{\"backgroundcolor\":\"white\",\"gridcolor\":\"#DFE8F3\",\"linecolor\":\"#EBF0F8\",\"showbackground\":true,\"ticks\":\"\",\"zerolinecolor\":\"#EBF0F8\",\"gridwidth\":2}},\"shapedefaults\":{\"line\":{\"color\":\"#2a3f5f\"}},\"annotationdefaults\":{\"arrowcolor\":\"#2a3f5f\",\"arrowhead\":0,\"arrowwidth\":1},\"geo\":{\"bgcolor\":\"white\",\"landcolor\":\"white\",\"subunitcolor\":\"#C8D4E3\",\"showland\":true,\"showlakes\":true,\"lakecolor\":\"white\"},\"title\":{\"x\":0.05},\"mapbox\":{\"style\":\"light\"}}},\"xaxis\":{\"anchor\":\"y\",\"domain\":[0.0,1.0],\"title\":{\"text\":\"variable\"},\"categoryorder\":\"array\",\"categoryarray\":[\"show_id\",\"type\",\"title\",\"director\",\"cast\",\"country\",\"date_added\",\"release_year\",\"rating\",\"duration\",\"listed_in\",\"description\"]},\"yaxis\":{\"anchor\":\"x\",\"domain\":[0.0,1.0],\"title\":{\"text\":\"value\"}},\"legend\":{\"title\":{\"text\":\"variable\"},\"tracegroupgap\":0},\"title\":{\"text\":\"Barplot with Unique Values for Columns\"},\"barmode\":\"relative\"},                        {\"responsive\": true}                    ).then(function(){\n",
       "                            \n",
       "var gd = document.getElementById('995fe251-7c05-4eee-84bd-a6998dfcd33b');\n",
       "var x = new MutationObserver(function (mutations, observer) {{\n",
       "        var display = window.getComputedStyle(gd).display;\n",
       "        if (!display || display === 'none') {{\n",
       "            console.log([gd, 'removed!']);\n",
       "            Plotly.purge(gd);\n",
       "            observer.disconnect();\n",
       "        }}\n",
       "}});\n",
       "\n",
       "// Listen for the removal of the full notebook cells\n",
       "var notebookContainer = gd.closest('#notebook-container');\n",
       "if (notebookContainer) {{\n",
       "    x.observe(notebookContainer, {childList: true});\n",
       "}}\n",
       "\n",
       "// Listen for the clearing of the current output cell\n",
       "var outputEl = gd.closest('.output');\n",
       "if (outputEl) {{\n",
       "    x.observe(outputEl, {childList: true});\n",
       "}}\n",
       "\n",
       "                        })                };                });            </script>        </div>"
      ]
     },
     "metadata": {},
     "output_type": "display_data"
    }
   ],
   "source": [
    "fig = px.bar(pd.DataFrame([raw.nunique()]).melt(), x='variable', y='value', text='value', color='variable', title='Barplot with Unique Values for Columns')\n",
    "fig.update_traces(texttemplate='%{text}', textposition='outside')\n",
    "fig.show()"
   ]
  },
  {
   "cell_type": "markdown",
   "id": "d9b874de",
   "metadata": {
    "papermill": {
     "duration": 0.024475,
     "end_time": "2024-02-12T03:27:52.597555",
     "exception": false,
     "start_time": "2024-02-12T03:27:52.573080",
     "status": "completed"
    },
    "tags": []
   },
   "source": [
    "- I was expecting the desctiption to be unique to each show, lest explore why some shows have the exact same description but different title"
   ]
  },
  {
   "cell_type": "markdown",
   "id": "237f0877",
   "metadata": {
    "papermill": {
     "duration": 0.023446,
     "end_time": "2024-02-12T03:27:52.644909",
     "exception": false,
     "start_time": "2024-02-12T03:27:52.621463",
     "status": "completed"
    },
    "tags": []
   },
   "source": [
    "# Find rows which have the same description and remove one of them"
   ]
  },
  {
   "cell_type": "code",
   "execution_count": 11,
   "id": "34bef909",
   "metadata": {
    "execution": {
     "iopub.execute_input": "2024-02-12T03:27:52.694992Z",
     "iopub.status.busy": "2024-02-12T03:27:52.694611Z",
     "iopub.status.idle": "2024-02-12T03:27:52.714042Z",
     "shell.execute_reply": "2024-02-12T03:27:52.713297Z"
    },
    "papermill": {
     "duration": 0.047013,
     "end_time": "2024-02-12T03:27:52.716192",
     "exception": false,
     "start_time": "2024-02-12T03:27:52.669179",
     "status": "completed"
    },
    "tags": []
   },
   "outputs": [],
   "source": [
    "raw2 = raw.sort_values('description')"
   ]
  },
  {
   "cell_type": "code",
   "execution_count": 12,
   "id": "7bfbdb33",
   "metadata": {
    "execution": {
     "iopub.execute_input": "2024-02-12T03:27:52.768155Z",
     "iopub.status.busy": "2024-02-12T03:27:52.767431Z",
     "iopub.status.idle": "2024-02-12T03:27:54.280283Z",
     "shell.execute_reply": "2024-02-12T03:27:54.279010Z"
    },
    "papermill": {
     "duration": 1.540926,
     "end_time": "2024-02-12T03:27:54.282437",
     "exception": false,
     "start_time": "2024-02-12T03:27:52.741511",
     "status": "completed"
    },
    "tags": []
   },
   "outputs": [
    {
     "name": "stdout",
     "output_type": "stream",
     "text": [
      "161 162\n",
      "1000 1001\n",
      "1155 1156\n",
      "1156 1157\n",
      "1389 1390\n",
      "1772 1773\n",
      "1828 1829\n",
      "2234 2235\n",
      "2284 2285\n",
      "2529 2530\n",
      "2548 2549\n",
      "2552 2553\n",
      "2561 2562\n",
      "2864 2865\n",
      "2969 2970\n",
      "2970 2971\n",
      "3126 3127\n",
      "3967 3968\n",
      "5373 5374\n",
      "5407 5408\n",
      "5408 5409\n",
      "5526 5527\n",
      "5675 5676\n",
      "5676 5677\n",
      "5677 5678\n",
      "5996 5997\n",
      "6433 6434\n",
      "7031 7032\n",
      "7567 7568\n",
      "7767 7768\n",
      "8340 8341\n",
      "8680 8681\n"
     ]
    }
   ],
   "source": [
    "shows_to_exclude = []\n",
    "for i in range(1, raw2.shape[0]):\n",
    "    if raw2.iloc[i]['description'].lower() == raw2.iloc[i-1]['description'].lower(): \n",
    "        shows_to_exclude.append(raw2.iloc[i]['show_id'])\n",
    "        print(i-1, i)"
   ]
  },
  {
   "cell_type": "code",
   "execution_count": 13,
   "id": "1754ebd1",
   "metadata": {
    "execution": {
     "iopub.execute_input": "2024-02-12T03:27:54.335619Z",
     "iopub.status.busy": "2024-02-12T03:27:54.335276Z",
     "iopub.status.idle": "2024-02-12T03:27:54.350718Z",
     "shell.execute_reply": "2024-02-12T03:27:54.349689Z"
    },
    "papermill": {
     "duration": 0.04492,
     "end_time": "2024-02-12T03:27:54.353037",
     "exception": false,
     "start_time": "2024-02-12T03:27:54.308117",
     "status": "completed"
    },
    "tags": []
   },
   "outputs": [
    {
     "data": {
      "text/html": [
       "<div>\n",
       "<style scoped>\n",
       "    .dataframe tbody tr th:only-of-type {\n",
       "        vertical-align: middle;\n",
       "    }\n",
       "\n",
       "    .dataframe tbody tr th {\n",
       "        vertical-align: top;\n",
       "    }\n",
       "\n",
       "    .dataframe thead th {\n",
       "        text-align: right;\n",
       "    }\n",
       "</style>\n",
       "<table border=\"1\" class=\"dataframe\">\n",
       "  <thead>\n",
       "    <tr style=\"text-align: right;\">\n",
       "      <th></th>\n",
       "      <th>show_id</th>\n",
       "      <th>type</th>\n",
       "      <th>title</th>\n",
       "      <th>director</th>\n",
       "      <th>cast</th>\n",
       "      <th>country</th>\n",
       "      <th>date_added</th>\n",
       "      <th>release_year</th>\n",
       "      <th>rating</th>\n",
       "      <th>duration</th>\n",
       "      <th>listed_in</th>\n",
       "      <th>description</th>\n",
       "    </tr>\n",
       "  </thead>\n",
       "  <tbody>\n",
       "    <tr>\n",
       "      <th>78</th>\n",
       "      <td>s79</td>\n",
       "      <td>Movie</td>\n",
       "      <td>Tughlaq Durbar</td>\n",
       "      <td>Delhiprasad Deenadayalan</td>\n",
       "      <td>Vijay Sethupathi, Parthiban, Raashi Khanna</td>\n",
       "      <td>NaN</td>\n",
       "      <td>September 11, 2021</td>\n",
       "      <td>2020</td>\n",
       "      <td>TV-14</td>\n",
       "      <td>145 min</td>\n",
       "      <td>Comedies, Dramas, International Movies</td>\n",
       "      <td>A budding politician has devious plans to rise...</td>\n",
       "    </tr>\n",
       "    <tr>\n",
       "      <th>79</th>\n",
       "      <td>s80</td>\n",
       "      <td>Movie</td>\n",
       "      <td>Tughlaq Durbar (Telugu)</td>\n",
       "      <td>Delhiprasad Deenadayalan</td>\n",
       "      <td>Vijay Sethupathi, Parthiban, Raashi Khanna</td>\n",
       "      <td>NaN</td>\n",
       "      <td>September 11, 2021</td>\n",
       "      <td>2021</td>\n",
       "      <td>TV-14</td>\n",
       "      <td>145 min</td>\n",
       "      <td>Comedies, Dramas, International Movies</td>\n",
       "      <td>A budding politician has devious plans to rise...</td>\n",
       "    </tr>\n",
       "  </tbody>\n",
       "</table>\n",
       "</div>"
      ],
      "text/plain": [
       "   show_id   type                    title                  director  \\\n",
       "78     s79  Movie           Tughlaq Durbar  Delhiprasad Deenadayalan   \n",
       "79     s80  Movie  Tughlaq Durbar (Telugu)  Delhiprasad Deenadayalan   \n",
       "\n",
       "                                          cast country          date_added  \\\n",
       "78  Vijay Sethupathi, Parthiban, Raashi Khanna     NaN  September 11, 2021   \n",
       "79  Vijay Sethupathi, Parthiban, Raashi Khanna     NaN  September 11, 2021   \n",
       "\n",
       "    release_year rating duration                               listed_in  \\\n",
       "78          2020  TV-14  145 min  Comedies, Dramas, International Movies   \n",
       "79          2021  TV-14  145 min  Comedies, Dramas, International Movies   \n",
       "\n",
       "                                          description  \n",
       "78  A budding politician has devious plans to rise...  \n",
       "79  A budding politician has devious plans to rise...  "
      ]
     },
     "execution_count": 13,
     "metadata": {},
     "output_type": "execute_result"
    }
   ],
   "source": [
    "raw2.iloc[161:163]"
   ]
  },
  {
   "cell_type": "code",
   "execution_count": 14,
   "id": "05572e74",
   "metadata": {
    "execution": {
     "iopub.execute_input": "2024-02-12T03:27:54.408815Z",
     "iopub.status.busy": "2024-02-12T03:27:54.408413Z",
     "iopub.status.idle": "2024-02-12T03:27:54.423587Z",
     "shell.execute_reply": "2024-02-12T03:27:54.422551Z"
    },
    "papermill": {
     "duration": 0.04583,
     "end_time": "2024-02-12T03:27:54.425849",
     "exception": false,
     "start_time": "2024-02-12T03:27:54.380019",
     "status": "completed"
    },
    "tags": []
   },
   "outputs": [
    {
     "data": {
      "text/html": [
       "<div>\n",
       "<style scoped>\n",
       "    .dataframe tbody tr th:only-of-type {\n",
       "        vertical-align: middle;\n",
       "    }\n",
       "\n",
       "    .dataframe tbody tr th {\n",
       "        vertical-align: top;\n",
       "    }\n",
       "\n",
       "    .dataframe thead th {\n",
       "        text-align: right;\n",
       "    }\n",
       "</style>\n",
       "<table border=\"1\" class=\"dataframe\">\n",
       "  <thead>\n",
       "    <tr style=\"text-align: right;\">\n",
       "      <th></th>\n",
       "      <th>show_id</th>\n",
       "      <th>type</th>\n",
       "      <th>title</th>\n",
       "      <th>director</th>\n",
       "      <th>cast</th>\n",
       "      <th>country</th>\n",
       "      <th>date_added</th>\n",
       "      <th>release_year</th>\n",
       "      <th>rating</th>\n",
       "      <th>duration</th>\n",
       "      <th>listed_in</th>\n",
       "      <th>description</th>\n",
       "    </tr>\n",
       "  </thead>\n",
       "  <tbody>\n",
       "    <tr>\n",
       "      <th>2969</th>\n",
       "      <td>s2970</td>\n",
       "      <td>Movie</td>\n",
       "      <td>Together For Eternity</td>\n",
       "      <td>Sooraj R. Barjatya</td>\n",
       "      <td>Salman Khan, Karisma Kapoor, Saif Ali Khan, Ta...</td>\n",
       "      <td>India</td>\n",
       "      <td>February 1, 2020</td>\n",
       "      <td>1999</td>\n",
       "      <td>TV-G</td>\n",
       "      <td>176 min</td>\n",
       "      <td>Dramas, International Movies, Music &amp; Musicals</td>\n",
       "      <td>A scheming matriarch plots to cut off her disa...</td>\n",
       "    </tr>\n",
       "    <tr>\n",
       "      <th>7022</th>\n",
       "      <td>s7023</td>\n",
       "      <td>Movie</td>\n",
       "      <td>Hum Saath-Saath Hain</td>\n",
       "      <td>Sooraj R. Barjatya</td>\n",
       "      <td>Salman Khan, Karisma Kapoor, Saif Ali Khan, Ta...</td>\n",
       "      <td>India</td>\n",
       "      <td>January 1, 2018</td>\n",
       "      <td>1999</td>\n",
       "      <td>TV-G</td>\n",
       "      <td>176 min</td>\n",
       "      <td>Dramas, International Movies, Music &amp; Musicals</td>\n",
       "      <td>A scheming matriarch plots to cut off her disa...</td>\n",
       "    </tr>\n",
       "  </tbody>\n",
       "</table>\n",
       "</div>"
      ],
      "text/plain": [
       "     show_id   type                  title            director  \\\n",
       "2969   s2970  Movie  Together For Eternity  Sooraj R. Barjatya   \n",
       "7022   s7023  Movie   Hum Saath-Saath Hain  Sooraj R. Barjatya   \n",
       "\n",
       "                                                   cast country  \\\n",
       "2969  Salman Khan, Karisma Kapoor, Saif Ali Khan, Ta...   India   \n",
       "7022  Salman Khan, Karisma Kapoor, Saif Ali Khan, Ta...   India   \n",
       "\n",
       "            date_added  release_year rating duration  \\\n",
       "2969  February 1, 2020          1999   TV-G  176 min   \n",
       "7022   January 1, 2018          1999   TV-G  176 min   \n",
       "\n",
       "                                           listed_in  \\\n",
       "2969  Dramas, International Movies, Music & Musicals   \n",
       "7022  Dramas, International Movies, Music & Musicals   \n",
       "\n",
       "                                            description  \n",
       "2969  A scheming matriarch plots to cut off her disa...  \n",
       "7022  A scheming matriarch plots to cut off her disa...  "
      ]
     },
     "execution_count": 14,
     "metadata": {},
     "output_type": "execute_result"
    }
   ],
   "source": [
    "raw2.iloc[1000:1002]"
   ]
  },
  {
   "cell_type": "markdown",
   "id": "b7df9358",
   "metadata": {
    "papermill": {
     "duration": 0.026323,
     "end_time": "2024-02-12T03:27:54.478958",
     "exception": false,
     "start_time": "2024-02-12T03:27:54.452635",
     "status": "completed"
    },
    "tags": []
   },
   "source": [
    "- Now we know that when a movie is offered in multiple languages, it creates a new instance with the exact same description but different title\n",
    "- Highly repetative words can result in overinflating the importance of some words leading to skewed similarity scores. However repetative words can be helpful in cases when these are a good representative of the shows context.\n",
    "- Many times the description of the title is short and could not cover the shows context entirely, thus I believe removing the rows with same description(dubbed titles) will not impact the recomendatins much negatively."
   ]
  },
  {
   "cell_type": "code",
   "execution_count": 15,
   "id": "eeac0e3d",
   "metadata": {
    "execution": {
     "iopub.execute_input": "2024-02-12T03:27:54.532833Z",
     "iopub.status.busy": "2024-02-12T03:27:54.532432Z",
     "iopub.status.idle": "2024-02-12T03:27:54.540869Z",
     "shell.execute_reply": "2024-02-12T03:27:54.540097Z"
    },
    "papermill": {
     "duration": 0.037765,
     "end_time": "2024-02-12T03:27:54.542818",
     "exception": false,
     "start_time": "2024-02-12T03:27:54.505053",
     "status": "completed"
    },
    "tags": []
   },
   "outputs": [],
   "source": [
    "# Keeping only one row or show with same description\n",
    "raw = raw[~raw['show_id'].isin(shows_to_exclude)]"
   ]
  },
  {
   "cell_type": "code",
   "execution_count": 16,
   "id": "a7c62855",
   "metadata": {
    "execution": {
     "iopub.execute_input": "2024-02-12T03:27:54.596806Z",
     "iopub.status.busy": "2024-02-12T03:27:54.596503Z",
     "iopub.status.idle": "2024-02-12T03:27:54.622951Z",
     "shell.execute_reply": "2024-02-12T03:27:54.622244Z"
    },
    "papermill": {
     "duration": 0.055706,
     "end_time": "2024-02-12T03:27:54.624944",
     "exception": false,
     "start_time": "2024-02-12T03:27:54.569238",
     "status": "completed"
    },
    "tags": []
   },
   "outputs": [
    {
     "data": {
      "text/plain": [
       "show_id         8775\n",
       "type               2\n",
       "title           8775\n",
       "director        4527\n",
       "cast            7686\n",
       "country          748\n",
       "date_added      1766\n",
       "release_year      74\n",
       "rating            17\n",
       "duration         220\n",
       "listed_in        514\n",
       "description     8775\n",
       "dtype: int64"
      ]
     },
     "execution_count": 16,
     "metadata": {},
     "output_type": "execute_result"
    }
   ],
   "source": [
    "raw.nunique()"
   ]
  },
  {
   "attachments": {
    "992b9bbb-d310-4b42-b56e-4f65042e6e90.png": {
     "image/png": "[encoded data removed]"
    }
   },
   "cell_type": "markdown",
   "id": "7286bc6a",
   "metadata": {
    "papermill": {
     "duration": 0.027748,
     "end_time": "2024-02-12T03:27:54.679892",
     "exception": false,
     "start_time": "2024-02-12T03:27:54.652144",
     "status": "completed"
    },
    "tags": []
   },
   "source": [
    "# Data Pre-Processing and Feature Engineering Steps for mode = short (feature engineering)\n",
    "![image.png](attachment:992b9bbb-d310-4b42-b56e-4f65042e6e90.png)"
   ]
  },
  {
   "cell_type": "markdown",
   "id": "ae6c053b",
   "metadata": {
    "papermill": {
     "duration": 0.027206,
     "end_time": "2024-02-12T03:27:54.734435",
     "exception": false,
     "start_time": "2024-02-12T03:27:54.707229",
     "status": "completed"
    },
    "tags": []
   },
   "source": [
    "# NLP Class to aggregate script"
   ]
  },
  {
   "cell_type": "code",
   "execution_count": 17,
   "id": "2b4a7e76",
   "metadata": {
    "execution": {
     "iopub.execute_input": "2024-02-12T03:27:54.791341Z",
     "iopub.status.busy": "2024-02-12T03:27:54.790982Z",
     "iopub.status.idle": "2024-02-12T03:27:54.816884Z",
     "shell.execute_reply": "2024-02-12T03:27:54.815931Z"
    },
    "papermill": {
     "duration": 0.057499,
     "end_time": "2024-02-12T03:27:54.819250",
     "exception": false,
     "start_time": "2024-02-12T03:27:54.761751",
     "status": "completed"
    },
    "tags": []
   },
   "outputs": [],
   "source": [
    "class NLP:\n",
    "    def __init__(self):\n",
    "        self.file_location = '/kaggle/input/netflix-shows/netflix_titles.csv'\n",
    "        \n",
    "    def ProcessRawData(self):\n",
    "        self.raw = pd.read_csv('/kaggle/input/netflix-shows/netflix_titles.csv')\n",
    "        dfs = spark.createDataFrame(self.raw)\n",
    "\n",
    "        # create training data - short: a new column \"txt_input\" by appending title, listed_in and description. \n",
    "        # convert to lower case and replace nan with empty string\n",
    "        dfs_short = dfs.withColumn(\"txt_input\", concat_ws(\" \", \"title\", \"listed_in\", \"description\"))\n",
    "        dfs_short = dfs_short.withColumn(\"txt_input\", lower(dfs_short['txt_input']))\n",
    "        dfs_short = dfs_short.withColumn('txt_input', regexp_replace('txt_input', 'nan ', ''))\n",
    "        self.train_short = dfs_short['show_id', 'txt_input']\n",
    "        \n",
    "        # create training data - long:\n",
    "        dfs_long = dfs.withColumn(\"txt_input\", concat_ws(\" \", \"title\", \"director\", \"cast\", \"listed_in\", \"description\"))\n",
    "        dfs_long = dfs_long.withColumn(\"txt_input\", lower(dfs_long['txt_input']))\n",
    "        dfs_long = dfs_long.withColumn('txt_input', regexp_replace('txt_input', 'nan ', ''))\n",
    "        self.train_long = dfs_long['show_id', 'txt_input']\n",
    "        \n",
    "    def FitPipeline(self):\n",
    "        # split sentences into list of words\n",
    "        tokenize = RegexTokenizer(inputCol=\"txt_input\", \n",
    "                                      outputCol=\"tokenized\", \n",
    "                                      pattern=\"[^a-z]\")\n",
    "        # remove stop words\n",
    "        filter_st = StopWordsRemover(inputCol=\"tokenized\", \n",
    "                                      outputCol=\"filtered\")\n",
    "\n",
    "        count_vectorizor = HashingTF(inputCol=\"filtered\", \n",
    "                                        outputCol=\"count_vec\", \n",
    "                                        numFeatures=50)\n",
    "        \n",
    "        tfidf_vectorizor = IDF(inputCol=\"count_vec\", \n",
    "                                outputCol=\"features_tfidf\")\n",
    "\n",
    "        pipeline_tfidf = Pipeline(stages=[tokenize, \n",
    "                                        filter_st, \n",
    "                                        count_vectorizor,\n",
    "                                        tfidf_vectorizor])\n",
    "        \n",
    "        # fit the pipeline\n",
    "        self.pipe_short_fit = pipeline_tfidf.fit(self.train_short)\n",
    "        features_short = self.pipe_short_fit.transform(self.train_short)\n",
    "        # convert sparse matrix to dense\n",
    "        self.features_short = features_short.withColumn('arr_features_tfidf', vector_to_array('features_tfidf'))\\\n",
    "                                    .withColumn('arr_features_cnt', vector_to_array('count_vec'))\n",
    "        \n",
    "        self.pipe_long_fit = pipeline_tfidf.fit(self.train_long)\n",
    "        features_long = self.pipe_long_fit.transform(self.train_long)\n",
    "        self.features_long = features_long.withColumn('arr_features_tfidf', vector_to_array('features_tfidf'))\\\n",
    "                                    .withColumn('arr_features_cnt', vector_to_array('count_vec'))\n",
    "        \n",
    "    def Search(self, txt_search, mode, feature, top_n=5):\n",
    "        txt_search = txt_search.strip()\n",
    "        if txt_search == '': raise ValueError(\"Invalid txt_search\")\n",
    "        if mode not in ['short', 'long']: raise ValueError(\"Mode must be either 'short' or 'long'\")\n",
    "        if feature not in ['tfidf', 'bow']: raise ValueError(\"Feature must be either 'tfidf' or 'bow'\")\n",
    "        if top_n < 1: raise ValueError(\"'top_n' must be atleast 1\")\n",
    "        \n",
    "        self.ProcessRawData()\n",
    "        self.FitPipeline()\n",
    "        \n",
    "        # apply pre-processing steps to the test data\n",
    "        pred_raw = pd.DataFrame(data = {\"txt_input\":[txt_search]})\n",
    "        pred_raw['txt_input'] = pred_raw['txt_input'].str.lower()\n",
    "        test_input = spark.createDataFrame(pred_raw)\n",
    "\n",
    "        if mode == 'short': \n",
    "            pred_features = self.pipe_short_fit.transform(test_input)\n",
    "            train_features_df = self.features_short.toPandas()\n",
    "        else: \n",
    "            pred_features = self.pipe_long_fit.transform(test_input)\n",
    "            train_features_df = self.features_long.toPandas()\n",
    "\n",
    "        pred_features = pred_features.withColumn('arr_features_tfidf', vector_to_array('features_tfidf'))\\\n",
    "                                        .withColumn('arr_features_cnt', vector_to_array('count_vec'))\n",
    "\n",
    "        pred_features_df = pred_features.toPandas()\n",
    "        \n",
    "        # compute cosine similaity\n",
    "        if feature == 'tfidf':\n",
    "            pred_similarity = cosine_similarity(scipy.sparse.csr_matrix(list(train_features_df['arr_features_tfidf'].values)),\n",
    "                                            scipy.sparse.csr_matrix(list(pred_features_df['arr_features_tfidf'].values)))\n",
    "        else:\n",
    "            pred_similarity = cosine_similarity(scipy.sparse.csr_matrix(list(train_features_df['arr_features_cnt'].values)),\n",
    "                                            scipy.sparse.csr_matrix(list(pred_features_df['arr_features_cnt'].values))) \n",
    "    \n",
    "        # search most relevant titles by sorting descending to cosine similarity \n",
    "        train_features_df['pred_similarity'] = pred_similarity\n",
    "\n",
    "        if top_n <= train_features_df.shape[0]:\n",
    "            top_n_df = train_features_df.sort_values(['pred_similarity'], ascending = False).head(top_n)\n",
    "            \n",
    "            for i in range(0, top_n_df.shape[0]):\n",
    "                print(f'\\n{str(i+1)}) Similarity Score: {str(top_n_df.iloc[i].pred_similarity)}')\n",
    "                temp = self.raw[self.raw['show_id'] == top_n_df.iloc[i]['show_id']].copy()\n",
    "                print(temp[['title', 'listed_in']])\n",
    "                print(top_n_df.iloc[i]['txt_input'])\n",
    "                #print(top_n_df.iloc[i]['filtered'])\n",
    "        else: \n",
    "            raise ValueError(\"top_n must me less than \", train_features_df.shape[0])"
   ]
  },
  {
   "cell_type": "markdown",
   "id": "8f387028",
   "metadata": {
    "papermill": {
     "duration": 0.027675,
     "end_time": "2024-02-12T03:27:54.875606",
     "exception": false,
     "start_time": "2024-02-12T03:27:54.847931",
     "status": "completed"
    },
    "tags": []
   },
   "source": [
    "# Analyzing recommendations for Bag of Words - Short\n",
    "\n",
    "Analysis Parameters for mode = short and feature = bow(bag of words)<br>\n",
    "search text = 'comedy sitcom funny humor fun joke clown'<br> \n",
    "           or 'war military battle invasion weapon soldier'<br>\n",
    "            or 'finance business accounting wallstreet money credit bank'\n",
    "            \n",
    "Idea: Analyze each mode and feature performance for 3 different contexts comedy, war and finance"
   ]
  },
  {
   "cell_type": "code",
   "execution_count": 18,
   "id": "40fd53ff",
   "metadata": {
    "execution": {
     "iopub.execute_input": "2024-02-12T03:27:54.934062Z",
     "iopub.status.busy": "2024-02-12T03:27:54.933341Z",
     "iopub.status.idle": "2024-02-12T03:28:15.325518Z",
     "shell.execute_reply": "2024-02-12T03:28:15.324162Z"
    },
    "papermill": {
     "duration": 20.424124,
     "end_time": "2024-02-12T03:28:15.327836",
     "exception": false,
     "start_time": "2024-02-12T03:27:54.903712",
     "status": "completed"
    },
    "tags": []
   },
   "outputs": [
    {
     "name": "stderr",
     "output_type": "stream",
     "text": [
      "                                                                                \r"
     ]
    },
    {
     "name": "stdout",
     "output_type": "stream",
     "text": [
      "\n",
      "1) Similarity Score: 0.68350674260132\n",
      "                     title                           listed_in\n",
      "6080  Abominable Christmas  Children & Family Movies, Comedies\n",
      "abominable christmas children & family movies, comedies two small abominable snowmen flee their mountain to escape a scientist who's trying to capture them and end up spending christmas with a human family.\n",
      "\n",
      "2) Similarity Score: 0.5916079783099615\n",
      "                     title listed_in\n",
      "8301  The First Wives Club  Comedies\n",
      "the first wives club comedies following a friend's suicide after her husband dumps her for a younger model, three women plot payback against their two-timing exes.\n",
      "\n",
      "3) Similarity Score: 0.5819143739626463\n",
      "                        title         listed_in\n",
      "4293  Springsteen on Broadway  Music & Musicals\n",
      "springsteen on broadway music & musicals bruce springsteen shares personal stories from his life and acoustic versions of some of his best-known songs in an intimate one-man show.\n",
      "\n",
      "4) Similarity Score: 0.5749889084999458\n",
      "          title                           listed_in\n",
      "5648  Bee Movie  Children & Family Movies, Comedies\n",
      "bee movie children & family movies, comedies barry, a worker bee stuck in a dead-end job making honey, sues humans when he learns they've been stealing bees' nectar all along.\n",
      "\n",
      "5) Similarity Score: 0.5714285714285713\n",
      "                       title                     listed_in\n",
      "8718  Westside vs. the World  Documentaries, Sports Movies\n",
      "westside vs. the world documentaries, sports movies a look into the journey of influential strength coach louie simmons and the westside barbell gym he founded, evolving the sport of powerlifting.\n"
     ]
    }
   ],
   "source": [
    "#1.1\n",
    "x = NLP()\n",
    "x.Search('comedy sitcom funny humor fun joke clown', mode='short', feature='bow')"
   ]
  },
  {
   "cell_type": "code",
   "execution_count": 19,
   "id": "799a1d4e",
   "metadata": {
    "execution": {
     "iopub.execute_input": "2024-02-12T03:28:15.387280Z",
     "iopub.status.busy": "2024-02-12T03:28:15.386533Z",
     "iopub.status.idle": "2024-02-12T03:28:23.766174Z",
     "shell.execute_reply": "2024-02-12T03:28:23.765091Z"
    },
    "papermill": {
     "duration": 8.412557,
     "end_time": "2024-02-12T03:28:23.769100",
     "exception": false,
     "start_time": "2024-02-12T03:28:15.356543",
     "status": "completed"
    },
    "tags": []
   },
   "outputs": [
    {
     "name": "stderr",
     "output_type": "stream",
     "text": [
      "                                                                                \r"
     ]
    },
    {
     "name": "stdout",
     "output_type": "stream",
     "text": [
      "\n",
      "1) Similarity Score: 0.5865884600854132\n",
      "           title listed_in\n",
      "7148  Julius Jr.  Kids' TV\n",
      "julius jr. kids' tv paul frank's fun artwork comes to life in this show that follows monkey julius jr. and his friends as they explore the world and help each other out.\n",
      "\n",
      "2) Similarity Score: 0.5715476066494083\n",
      "                title                     listed_in\n",
      "7173  Kaviyude Osyath  Dramas, International Movies\n",
      "kaviyude osyath dramas, international movies when a late poet leaves behind his property to a young man, the man's brother suspects the poet may have been more than just a family friend.\n",
      "\n",
      "3) Similarity Score: 0.5604485383178051\n",
      "        title                            listed_in\n",
      "4374  Sabrina  Horror Movies, International Movies\n",
      "sabrina horror movies, international movies a toy manufacturer and his wife are terrorized by a demon after their orphaned niece tries to summon her late mother's spirit using a spooky ritual.\n",
      "\n",
      "4) Similarity Score: 0.560112033611204\n",
      "                                                 title  \\\n",
      "6442  Chandani: The Daughter of the Elephant Whisperer   \n",
      "\n",
      "                                listed_in  \n",
      "6442  Documentaries, International Movies  \n",
      "chandani: the daughter of the elephant whisperer documentaries, international movies a girl who wants to be an elephant driver like her father is given the chance to raise a calf and becomes even more determined when it's taken away.\n",
      "\n",
      "5) Similarity Score: 0.5555555555555557\n",
      "                                            title                   listed_in\n",
      "1416  Night Stalker: The Hunt for a Serial Killer  Crime TV Shows, Docuseries\n",
      "night stalker: the hunt for a serial killer crime tv shows, docuseries beneath the sunlit glamour of 1985 la lurks a relentlessly evil serial killer. in this true-crime story, two detectives won't rest until they catch him.\n"
     ]
    }
   ],
   "source": [
    "# 1.2\n",
    "x = NLP()\n",
    "x.Search('war military battle invasion weapon soldier', mode='short', feature='bow')"
   ]
  },
  {
   "cell_type": "code",
   "execution_count": 20,
   "id": "3c5f8c91",
   "metadata": {
    "execution": {
     "iopub.execute_input": "2024-02-12T03:28:23.827236Z",
     "iopub.status.busy": "2024-02-12T03:28:23.826451Z",
     "iopub.status.idle": "2024-02-12T03:28:30.850971Z",
     "shell.execute_reply": "2024-02-12T03:28:30.850259Z"
    },
    "papermill": {
     "duration": 7.055124,
     "end_time": "2024-02-12T03:28:30.853261",
     "exception": false,
     "start_time": "2024-02-12T03:28:23.798137",
     "status": "completed"
    },
    "tags": []
   },
   "outputs": [
    {
     "name": "stderr",
     "output_type": "stream",
     "text": [
      "                                                                                \r"
     ]
    },
    {
     "name": "stdout",
     "output_type": "stream",
     "text": [
      "\n",
      "1) Similarity Score: 0.6585527740981746\n",
      "     title                    listed_in\n",
      "5028  Mute  Sci-Fi & Fantasy, Thrillers\n",
      "mute sci-fi & fantasy, thrillers when his girlfriend vanishes, a mute man ventures into a near-future berlin's seamy underworld, where his actions speak louder than words.\n",
      "\n",
      "2) Similarity Score: 0.6288281455225323\n",
      "     title                     listed_in\n",
      "6831  Gelo  Dramas, International Movies\n",
      "gelo dramas, international movies a punjabi woman who works on a farm must endure the difficulties of living in an oppressive class-based society and a dysfunctional community.\n",
      "\n",
      "3) Similarity Score: 0.5948118774794626\n",
      "                              title        listed_in\n",
      "5379  Tom Segura: Completely Normal  Stand-Up Comedy\n",
      "tom segura: completely normal stand-up comedy levelheaded stand-up tom segura shares offhand appraisals on hotels and opens up about his hobbies and digestive ailments in this comedy special.\n",
      "\n",
      "4) Similarity Score: 0.5773502691896257\n",
      "            title                                      listed_in\n",
      "2266  Blood Money  Dramas, International Movies, Romantic Movies\n",
      "blood money dramas, international movies, romantic movies ambitious kunal takes a job in the diamond business, but his life is thrown into turmoil when he's drawn into the seedy underworld of his new career.\n",
      "\n",
      "5) Similarity Score: 0.5634361698190111\n",
      "                              title        listed_in\n",
      "2952  Tom Papa: You're Doing Great!  Stand-Up Comedy\n",
      "tom papa: you're doing great! stand-up comedy comedian tom papa takes on body image issues, social media, pets, staten island, the \"old days\" and more in a special from his home state of new jersey.\n"
     ]
    }
   ],
   "source": [
    "# 1.3\n",
    "x = NLP()\n",
    "x.Search('finance business accounting wallstreet money credit bank', mode='short', feature='bow')"
   ]
  },
  {
   "cell_type": "markdown",
   "id": "b248ed60",
   "metadata": {
    "papermill": {
     "duration": 0.028644,
     "end_time": "2024-02-12T03:28:30.912011",
     "exception": false,
     "start_time": "2024-02-12T03:28:30.883367",
     "status": "completed"
    },
    "tags": []
   },
   "source": [
    "### Analyzing recommendations for TF-IDF - Short"
   ]
  },
  {
   "cell_type": "code",
   "execution_count": 21,
   "id": "33535e3d",
   "metadata": {
    "execution": {
     "iopub.execute_input": "2024-02-12T03:28:30.972272Z",
     "iopub.status.busy": "2024-02-12T03:28:30.971254Z",
     "iopub.status.idle": "2024-02-12T03:28:37.388259Z",
     "shell.execute_reply": "2024-02-12T03:28:37.387143Z"
    },
    "papermill": {
     "duration": 6.450025,
     "end_time": "2024-02-12T03:28:37.390619",
     "exception": false,
     "start_time": "2024-02-12T03:28:30.940594",
     "status": "completed"
    },
    "tags": []
   },
   "outputs": [
    {
     "name": "stderr",
     "output_type": "stream",
     "text": [
      "                                                                                \r"
     ]
    },
    {
     "name": "stdout",
     "output_type": "stream",
     "text": [
      "\n",
      "1) Similarity Score: 0.7101992968975184\n",
      "                     title                           listed_in\n",
      "6080  Abominable Christmas  Children & Family Movies, Comedies\n",
      "abominable christmas children & family movies, comedies two small abominable snowmen flee their mountain to escape a scientist who's trying to capture them and end up spending christmas with a human family.\n",
      "\n",
      "2) Similarity Score: 0.648383934023484\n",
      "          title                           listed_in\n",
      "5648  Bee Movie  Children & Family Movies, Comedies\n",
      "bee movie children & family movies, comedies barry, a worker bee stuck in a dead-end job making honey, sues humans when he learns they've been stealing bees' nectar all along.\n",
      "\n",
      "3) Similarity Score: 0.6225335726575572\n",
      "                       title                     listed_in\n",
      "8718  Westside vs. the World  Documentaries, Sports Movies\n",
      "westside vs. the world documentaries, sports movies a look into the journey of influential strength coach louie simmons and the westside barbell gym he founded, evolving the sport of powerlifting.\n",
      "\n",
      "4) Similarity Score: 0.6167075058051933\n",
      "                     title listed_in\n",
      "8301  The First Wives Club  Comedies\n",
      "the first wives club comedies following a friend's suicide after her husband dumps her for a younger model, three women plot payback against their two-timing exes.\n",
      "\n",
      "5) Similarity Score: 0.597103678647888\n",
      "                          title              listed_in\n",
      "3247  Trolls: The Beat Goes On!  Kids' TV, TV Comedies\n",
      "trolls: the beat goes on! kids' tv, tv comedies as queen poppy welcomes a new time of peace in troll village with parties, sports and holiday celebrations, branch tries to be more fun-loving.\n"
     ]
    }
   ],
   "source": [
    "#2.1\n",
    "x = NLP()\n",
    "x.Search('comedy sitcom funny humor fun joke clown', mode='short', feature='tfidf')"
   ]
  },
  {
   "cell_type": "code",
   "execution_count": 22,
   "id": "b04cacbd",
   "metadata": {
    "execution": {
     "iopub.execute_input": "2024-02-12T03:28:37.451303Z",
     "iopub.status.busy": "2024-02-12T03:28:37.450212Z",
     "iopub.status.idle": "2024-02-12T03:28:44.044916Z",
     "shell.execute_reply": "2024-02-12T03:28:44.043358Z"
    },
    "papermill": {
     "duration": 6.626949,
     "end_time": "2024-02-12T03:28:44.047102",
     "exception": false,
     "start_time": "2024-02-12T03:28:37.420153",
     "status": "completed"
    },
    "tags": []
   },
   "outputs": [
    {
     "name": "stderr",
     "output_type": "stream",
     "text": [
      "                                                                                \r"
     ]
    },
    {
     "name": "stdout",
     "output_type": "stream",
     "text": [
      "\n",
      "1) Similarity Score: 0.6840504135625641\n",
      "                title                     listed_in\n",
      "7173  Kaviyude Osyath  Dramas, International Movies\n",
      "kaviyude osyath dramas, international movies when a late poet leaves behind his property to a young man, the man's brother suspects the poet may have been more than just a family friend.\n",
      "\n",
      "2) Similarity Score: 0.6590191496221467\n",
      "        title                            listed_in\n",
      "4374  Sabrina  Horror Movies, International Movies\n",
      "sabrina horror movies, international movies a toy manufacturer and his wife are terrorized by a demon after their orphaned niece tries to summon her late mother's spirit using a spooky ritual.\n",
      "\n",
      "3) Similarity Score: 0.6307578402917597\n",
      "           title listed_in\n",
      "7148  Julius Jr.  Kids' TV\n",
      "julius jr. kids' tv paul frank's fun artwork comes to life in this show that follows monkey julius jr. and his friends as they explore the world and help each other out.\n",
      "\n",
      "4) Similarity Score: 0.6257329290849255\n",
      "                                            title                   listed_in\n",
      "1416  Night Stalker: The Hunt for a Serial Killer  Crime TV Shows, Docuseries\n",
      "night stalker: the hunt for a serial killer crime tv shows, docuseries beneath the sunlit glamour of 1985 la lurks a relentlessly evil serial killer. in this true-crime story, two detectives won't rest until they catch him.\n",
      "\n",
      "5) Similarity Score: 0.6095591942291653\n",
      "                                                 title  \\\n",
      "6442  Chandani: The Daughter of the Elephant Whisperer   \n",
      "\n",
      "                                listed_in  \n",
      "6442  Documentaries, International Movies  \n",
      "chandani: the daughter of the elephant whisperer documentaries, international movies a girl who wants to be an elephant driver like her father is given the chance to raise a calf and becomes even more determined when it's taken away.\n"
     ]
    }
   ],
   "source": [
    "# 2.2\n",
    "x = NLP()\n",
    "x.Search('war military battle invasion weapon soldier', mode='short', feature='tfidf')"
   ]
  },
  {
   "cell_type": "code",
   "execution_count": 23,
   "id": "8bfb2670",
   "metadata": {
    "execution": {
     "iopub.execute_input": "2024-02-12T03:28:44.107685Z",
     "iopub.status.busy": "2024-02-12T03:28:44.107043Z",
     "iopub.status.idle": "2024-02-12T03:28:50.075285Z",
     "shell.execute_reply": "2024-02-12T03:28:50.074204Z"
    },
    "papermill": {
     "duration": 6.0014,
     "end_time": "2024-02-12T03:28:50.078255",
     "exception": false,
     "start_time": "2024-02-12T03:28:44.076855",
     "status": "completed"
    },
    "tags": []
   },
   "outputs": [
    {
     "name": "stderr",
     "output_type": "stream",
     "text": [
      "                                                                                \r"
     ]
    },
    {
     "name": "stdout",
     "output_type": "stream",
     "text": [
      "\n",
      "1) Similarity Score: 0.7619904407284813\n",
      "     title                    listed_in\n",
      "5028  Mute  Sci-Fi & Fantasy, Thrillers\n",
      "mute sci-fi & fantasy, thrillers when his girlfriend vanishes, a mute man ventures into a near-future berlin's seamy underworld, where his actions speak louder than words.\n",
      "\n",
      "2) Similarity Score: 0.6769768113684066\n",
      "                              title        listed_in\n",
      "5379  Tom Segura: Completely Normal  Stand-Up Comedy\n",
      "tom segura: completely normal stand-up comedy levelheaded stand-up tom segura shares offhand appraisals on hotels and opens up about his hobbies and digestive ailments in this comedy special.\n",
      "\n",
      "3) Similarity Score: 0.6669540106350775\n",
      "     title                     listed_in\n",
      "6831  Gelo  Dramas, International Movies\n",
      "gelo dramas, international movies a punjabi woman who works on a farm must endure the difficulties of living in an oppressive class-based society and a dysfunctional community.\n",
      "\n",
      "4) Similarity Score: 0.6589962478282028\n",
      "         title                                      listed_in\n",
      "1825  The Kite  Dramas, International Movies, Romantic Movies\n",
      "the kite dramas, international movies, romantic movies in an occupied village, a teen girl is set to wed a stranger. but when she crosses over to meet her betrothed, her heart gets entangled at the border.\n",
      "\n",
      "5) Similarity Score: 0.6390117542854551\n",
      "                       title                          listed_in\n",
      "6774  Footprints in the Sand  International TV Shows, TV Dramas\n",
      "footprints in the sand international tv shows, tv dramas familial bonds strain as dramas concerning love, greed, business and generosity simmer across generations.\n"
     ]
    }
   ],
   "source": [
    "# 2.3\n",
    "x = NLP()\n",
    "x.Search('finance business accounting wallstreet money credit bank', mode='short', feature='tfidf')"
   ]
  },
  {
   "cell_type": "markdown",
   "id": "c336c9a2",
   "metadata": {
    "papermill": {
     "duration": 0.028719,
     "end_time": "2024-02-12T03:28:50.136755",
     "exception": false,
     "start_time": "2024-02-12T03:28:50.108036",
     "status": "completed"
    },
    "tags": []
   },
   "source": [
    "### Analyzing recommendations for Bag of Words - Long"
   ]
  },
  {
   "cell_type": "code",
   "execution_count": 24,
   "id": "32b84a61",
   "metadata": {
    "execution": {
     "iopub.execute_input": "2024-02-12T03:28:50.197830Z",
     "iopub.status.busy": "2024-02-12T03:28:50.197421Z",
     "iopub.status.idle": "2024-02-12T03:28:57.354545Z",
     "shell.execute_reply": "2024-02-12T03:28:57.353541Z"
    },
    "papermill": {
     "duration": 7.190045,
     "end_time": "2024-02-12T03:28:57.357015",
     "exception": false,
     "start_time": "2024-02-12T03:28:50.166970",
     "status": "completed"
    },
    "tags": []
   },
   "outputs": [
    {
     "name": "stderr",
     "output_type": "stream",
     "text": [
      "                                                                                \r"
     ]
    },
    {
     "name": "stdout",
     "output_type": "stream",
     "text": [
      "\n",
      "1) Similarity Score: 0.6131393394849658\n",
      "                       title                     listed_in\n",
      "8718  Westside vs. the World  Documentaries, Sports Movies\n",
      "westside vs. the world michael fahey ron perlman, louie simmons documentaries, sports movies a look into the journey of influential strength coach louie simmons and the westside barbell gym he founded, evolving the sport of powerlifting.\n",
      "\n",
      "2) Similarity Score: 0.5953405577875872\n",
      "       title                                        listed_in\n",
      "7144  Judwaa  Comedies, International Movies, Romantic Movies\n",
      "judwaa david dhawan salman khan, karisma kapoor, rambha, kader khan, anupam kher, shakti kapoor, bindu, reema lagoo, satish shah, mukesh rishi comedies, international movies, romantic movies separated at birth, a pair of identical twins unexpectedly reunite as adults and embark on a madcap mission to take down a common enemy from their past.\n",
      "\n",
      "3) Similarity Score: 0.5953405577875871\n",
      "                     title                           listed_in\n",
      "6080  Abominable Christmas  Children & Family Movies, Comedies\n",
      "abominable christmas chad van de keere isabella acres, drake bell, emilio estevez, nolan gould, matthew lillard, ray liotta, jane lynch, ariel winter children & family movies, comedies two small abominable snowmen flee their mountain to escape a scientist who's trying to capture them and end up spending christmas with a human family.\n",
      "\n",
      "4) Similarity Score: 0.5841269128324421\n",
      "                     title                listed_in\n",
      "7549  My Week with Marilyn  Dramas, Romantic Movies\n",
      "my week with marilyn simon curtis michelle williams, kenneth branagh, eddie redmayne, dominic cooper, philip jackson, derek jacobi, toby jones, michael kitchen, julia ormond, simon russell beale, dougray scott, zoë wanamaker, emma watson, judi dench dramas, romantic movies while filming a movie in england, hollywood icon marilyn monroe slips away with a young brit for a week of self-discovery and frivolity.\n",
      "\n",
      "5) Similarity Score: 0.5763904177042349\n",
      "                                        title        listed_in\n",
      "5234  Rodney Carrington: Here Comes the Truth  Stand-Up Comedy\n",
      "rodney carrington: here comes the truth brandon jones rodney carrington stand-up comedy raunchy country comic and musician rodney carrington jokes and sings about life in his 40s, poking fun at sex, relationships and gaining weight.\n"
     ]
    }
   ],
   "source": [
    "#3.1\n",
    "x = NLP()\n",
    "x.Search('comedy sitcom funny humor fun joke clown', mode='long', feature='bow')"
   ]
  },
  {
   "cell_type": "code",
   "execution_count": 25,
   "id": "e157bb9a",
   "metadata": {
    "execution": {
     "iopub.execute_input": "2024-02-12T03:28:57.419310Z",
     "iopub.status.busy": "2024-02-12T03:28:57.418897Z",
     "iopub.status.idle": "2024-02-12T03:29:03.699909Z",
     "shell.execute_reply": "2024-02-12T03:29:03.698691Z"
    },
    "papermill": {
     "duration": 6.315214,
     "end_time": "2024-02-12T03:29:03.702510",
     "exception": false,
     "start_time": "2024-02-12T03:28:57.387296",
     "status": "completed"
    },
    "tags": []
   },
   "outputs": [
    {
     "name": "stderr",
     "output_type": "stream",
     "text": [
      "                                                                                \r"
     ]
    },
    {
     "name": "stdout",
     "output_type": "stream",
     "text": [
      "\n",
      "1) Similarity Score: 0.629852058044962\n",
      "                                       title                    listed_in\n",
      "7181  Kevyn Aucoin: Beauty & the Beast in Me  Documentaries, LGBTQ Movies\n",
      "kevyn aucoin: beauty & the beast in me lori kaye kevyn aucoin, cindy crawford, naomi campbell, gwyneth paltrow, andie macdowell, paulina porizkova, amber valletta documentaries, lgbtq movies makeup artist kevyn aucoin worked with top supermodels in the 1980s and 1990s. personal videos merged with interviews provide a peek into his life.\n",
      "\n",
      "2) Similarity Score: 0.5985056016645798\n",
      "                       title                  listed_in\n",
      "8055  Something's Gotta Give  Comedies, Romantic Movies\n",
      "something's gotta give nancy meyers jack nicholson, diane keaton, keanu reeves, frances mcdormand, amanda peet, jon favreau, paul michael glaser, rachel ticotin comedies, romantic movies still sexy at 60, harry sanborn wines and dines women half his age. but a getaway with his girlfriend goes awry when her mother drops in unannounced.\n",
      "\n",
      "3) Similarity Score: 0.5897678246195885\n",
      "                              title                     listed_in\n",
      "2016  Ani... Dr. Kashinath Ghanekar  Dramas, International Movies\n",
      "ani... dr. kashinath ghanekar abhijeet deshpande subodh bhave, vaidehi parshurami, nandita patkar, sonali kulkarni, sumeet raghvan, prasad oak, anand ingale, suhas palshikar dramas, international movies from his singular career to his personal demons, this biopic chronicles the short yet prolific life of the marathi dentist-turned-superstar.\n",
      "\n",
      "4) Similarity Score: 0.5855400437691198\n",
      "                              title  \\\n",
      "6628  Don't Crack Under Pressure II   \n",
      "\n",
      "                                              listed_in  \n",
      "6628  Action & Adventure, Documentaries, Internation...  \n",
      "don't crack under pressure ii thierry donard davide carrera, eric duguil, jesse richman, richie jackson, loic collomb-patton, wille lindberg, matt annetts action & adventure, documentaries, international movies using state-of-the-art technology, this stunning sequel follows athletes pulling off daring feats under extreme conditions in extraordinary locations.\n",
      "\n",
      "5) Similarity Score: 0.5773502691896258\n",
      "            title      listed_in\n",
      "8061  Sour Grapes  Documentaries\n",
      "sour grapes jerry rothwell, reuben atlas documentaries a dizzying chronicle of excess and deception dissects a fascinating case of fine-wine fraud and the con man who cheated investors out of millions.\n"
     ]
    }
   ],
   "source": [
    "# 3.2\n",
    "x = NLP()\n",
    "x.Search('war military battle invasion weapon soldier', mode='long', feature='bow')"
   ]
  },
  {
   "cell_type": "code",
   "execution_count": 26,
   "id": "cee07653",
   "metadata": {
    "execution": {
     "iopub.execute_input": "2024-02-12T03:29:03.767449Z",
     "iopub.status.busy": "2024-02-12T03:29:03.767067Z",
     "iopub.status.idle": "2024-02-12T03:29:10.227456Z",
     "shell.execute_reply": "2024-02-12T03:29:10.226401Z"
    },
    "papermill": {
     "duration": 6.495801,
     "end_time": "2024-02-12T03:29:10.230111",
     "exception": false,
     "start_time": "2024-02-12T03:29:03.734310",
     "status": "completed"
    },
    "tags": []
   },
   "outputs": [
    {
     "name": "stderr",
     "output_type": "stream",
     "text": [
      "                                                                                \r"
     ]
    },
    {
     "name": "stdout",
     "output_type": "stream",
     "text": [
      "\n",
      "1) Similarity Score: 0.647150228929434\n",
      "     title                    listed_in\n",
      "5028  Mute  Sci-Fi & Fantasy, Thrillers\n",
      "mute duncan jones alexander skarsgård, paul rudd, justin theroux sci-fi & fantasy, thrillers when his girlfriend vanishes, a mute man ventures into a near-future berlin's seamy underworld, where his actions speak louder than words.\n",
      "\n",
      "2) Similarity Score: 0.641015965093882\n",
      "                              title        listed_in\n",
      "2952  Tom Papa: You're Doing Great!  Stand-Up Comedy\n",
      "tom papa: you're doing great! gregory jacobs tom papa stand-up comedy comedian tom papa takes on body image issues, social media, pets, staten island, the \"old days\" and more in a special from his home state of new jersey.\n",
      "\n",
      "3) Similarity Score: 0.6350528962771202\n",
      "                              title        listed_in\n",
      "5379  Tom Segura: Completely Normal  Stand-Up Comedy\n",
      "tom segura: completely normal jay chapman tom segura stand-up comedy levelheaded stand-up tom segura shares offhand appraisals on hotels and opens up about his hobbies and digestive ailments in this comedy special.\n",
      "\n",
      "4) Similarity Score: 0.5962847939999438\n",
      "         title                            listed_in\n",
      "4268  Bird Box  Dramas, Sci-Fi & Fantasy, Thrillers\n",
      "bird box susanne bier sandra bullock, trevante rhodes, john malkovich, sarah paulson, bd wong, jacki weaver, rosa salazar, danielle macdonald, lil rel howery, tom hollander dramas, sci-fi & fantasy, thrillers five years after an ominous unseen presence drives most of society to suicide, a survivor and her two children make a desperate bid to reach safety.\n",
      "\n",
      "5) Similarity Score: 0.5819143739626464\n",
      "                                          title  \\\n",
      "8011  SHOT! The Psycho-Spiritual Mantra of Rock   \n",
      "\n",
      "                            listed_in  \n",
      "8011  Documentaries, Music & Musicals  \n",
      "shot! the psycho-spiritual mantra of rock barney clay mick rock documentaries, music & musicals aptly named iconic rock photographer mick rock reconstructs his journey through the thrilling and murky universe of rock 'n' roll history.\n"
     ]
    }
   ],
   "source": [
    "# 3.3\n",
    "x = NLP()\n",
    "x.Search('finance business accounting wallstreet money credit bank', mode='long', feature='bow')"
   ]
  },
  {
   "cell_type": "markdown",
   "id": "266de4e5",
   "metadata": {
    "papermill": {
     "duration": 0.02859,
     "end_time": "2024-02-12T03:29:10.288800",
     "exception": false,
     "start_time": "2024-02-12T03:29:10.260210",
     "status": "completed"
    },
    "tags": []
   },
   "source": [
    "### Analyzing recommendations for TF-IDF - Long"
   ]
  },
  {
   "cell_type": "code",
   "execution_count": 27,
   "id": "7dcd28ac",
   "metadata": {
    "execution": {
     "iopub.execute_input": "2024-02-12T03:29:10.352291Z",
     "iopub.status.busy": "2024-02-12T03:29:10.351610Z",
     "iopub.status.idle": "2024-02-12T03:29:16.648336Z",
     "shell.execute_reply": "2024-02-12T03:29:16.647284Z"
    },
    "papermill": {
     "duration": 6.330447,
     "end_time": "2024-02-12T03:29:16.650651",
     "exception": false,
     "start_time": "2024-02-12T03:29:10.320204",
     "status": "completed"
    },
    "tags": []
   },
   "outputs": [
    {
     "name": "stderr",
     "output_type": "stream",
     "text": [
      "                                                                                \r"
     ]
    },
    {
     "name": "stdout",
     "output_type": "stream",
     "text": [
      "\n",
      "1) Similarity Score: 0.6445929825310162\n",
      "          title                                      listed_in\n",
      "7247  Kya Kehna  Dramas, International Movies, Romantic Movies\n",
      "kya kehna kundan shah preity zinta, saif ali khan, anupam kher, farida jalal, chandrachur singh dramas, international movies, romantic movies a young university student's world is shaken after her brief involvement with a wealthy playboy results in her pregnancy.\n",
      "\n",
      "2) Similarity Score: 0.6352007996887277\n",
      "                       title                     listed_in\n",
      "8718  Westside vs. the World  Documentaries, Sports Movies\n",
      "westside vs. the world michael fahey ron perlman, louie simmons documentaries, sports movies a look into the journey of influential strength coach louie simmons and the westside barbell gym he founded, evolving the sport of powerlifting.\n",
      "\n",
      "3) Similarity Score: 0.6308635099707676\n",
      "       title                                        listed_in\n",
      "7144  Judwaa  Comedies, International Movies, Romantic Movies\n",
      "judwaa david dhawan salman khan, karisma kapoor, rambha, kader khan, anupam kher, shakti kapoor, bindu, reema lagoo, satish shah, mukesh rishi comedies, international movies, romantic movies separated at birth, a pair of identical twins unexpectedly reunite as adults and embark on a madcap mission to take down a common enemy from their past.\n",
      "\n",
      "4) Similarity Score: 0.6275115162166767\n",
      "         title      listed_in\n",
      "2559  Becoming  Documentaries\n",
      "becoming nadia hallgren michelle obama documentaries join former first lady michelle obama in an intimate documentary looking at her life, hopes and connection with others as she tours with \"becoming.\"\n",
      "\n",
      "5) Similarity Score: 0.6206137706354968\n",
      "                     title                           listed_in\n",
      "6080  Abominable Christmas  Children & Family Movies, Comedies\n",
      "abominable christmas chad van de keere isabella acres, drake bell, emilio estevez, nolan gould, matthew lillard, ray liotta, jane lynch, ariel winter children & family movies, comedies two small abominable snowmen flee their mountain to escape a scientist who's trying to capture them and end up spending christmas with a human family.\n"
     ]
    }
   ],
   "source": [
    "#4.1\n",
    "x = NLP()\n",
    "x.Search('comedy sitcom funny humor fun joke clown', mode='long', feature='tfidf')"
   ]
  },
  {
   "cell_type": "code",
   "execution_count": 28,
   "id": "5a598d23",
   "metadata": {
    "execution": {
     "iopub.execute_input": "2024-02-12T03:29:16.712548Z",
     "iopub.status.busy": "2024-02-12T03:29:16.712190Z",
     "iopub.status.idle": "2024-02-12T03:29:23.145798Z",
     "shell.execute_reply": "2024-02-12T03:29:23.144726Z"
    },
    "papermill": {
     "duration": 6.467662,
     "end_time": "2024-02-12T03:29:23.149105",
     "exception": false,
     "start_time": "2024-02-12T03:29:16.681443",
     "status": "completed"
    },
    "tags": []
   },
   "outputs": [
    {
     "name": "stderr",
     "output_type": "stream",
     "text": [
      "                                                                                \r"
     ]
    },
    {
     "name": "stdout",
     "output_type": "stream",
     "text": [
      "\n",
      "1) Similarity Score: 0.6353713319330334\n",
      "                                       title                    listed_in\n",
      "7181  Kevyn Aucoin: Beauty & the Beast in Me  Documentaries, LGBTQ Movies\n",
      "kevyn aucoin: beauty & the beast in me lori kaye kevyn aucoin, cindy crawford, naomi campbell, gwyneth paltrow, andie macdowell, paulina porizkova, amber valletta documentaries, lgbtq movies makeup artist kevyn aucoin worked with top supermodels in the 1980s and 1990s. personal videos merged with interviews provide a peek into his life.\n",
      "\n",
      "2) Similarity Score: 0.611055738052067\n",
      "                              title  \\\n",
      "6628  Don't Crack Under Pressure II   \n",
      "\n",
      "                                              listed_in  \n",
      "6628  Action & Adventure, Documentaries, Internation...  \n",
      "don't crack under pressure ii thierry donard davide carrera, eric duguil, jesse richman, richie jackson, loic collomb-patton, wille lindberg, matt annetts action & adventure, documentaries, international movies using state-of-the-art technology, this stunning sequel follows athletes pulling off daring feats under extreme conditions in extraordinary locations.\n",
      "\n",
      "3) Similarity Score: 0.6015082584116612\n",
      "                                                 title  \\\n",
      "6442  Chandani: The Daughter of the Elephant Whisperer   \n",
      "\n",
      "                                listed_in  \n",
      "6442  Documentaries, International Movies  \n",
      "chandani: the daughter of the elephant whisperer arne birkenstock k.g. chandani renuka ratnayake documentaries, international movies a girl who wants to be an elephant driver like her father is given the chance to raise a calf and becomes even more determined when it's taken away.\n",
      "\n",
      "4) Similarity Score: 0.599181414638572\n",
      "      title                     listed_in\n",
      "5767  Harud  Dramas, International Movies\n",
      "harud aamir bashir mohammad amir naji, shahnawaz bhat, shamim basharat, salma ashai, mudessir ahmed khan, rayes mohiuddin dramas, international movies a young kashmiri man sets out to escape to pakistan and make sense of his brother's death, but he drifts aimlessly until finding his brother's camera.\n",
      "\n",
      "5) Similarity Score: 0.598991135695656\n",
      "                              title                     listed_in\n",
      "2016  Ani... Dr. Kashinath Ghanekar  Dramas, International Movies\n",
      "ani... dr. kashinath ghanekar abhijeet deshpande subodh bhave, vaidehi parshurami, nandita patkar, sonali kulkarni, sumeet raghvan, prasad oak, anand ingale, suhas palshikar dramas, international movies from his singular career to his personal demons, this biopic chronicles the short yet prolific life of the marathi dentist-turned-superstar.\n"
     ]
    }
   ],
   "source": [
    "# 4.2\n",
    "x = NLP()\n",
    "x.Search('war military battle invasion weapon soldier', mode='long', feature='tfidf')"
   ]
  },
  {
   "cell_type": "code",
   "execution_count": 29,
   "id": "7662961c",
   "metadata": {
    "execution": {
     "iopub.execute_input": "2024-02-12T03:29:23.218048Z",
     "iopub.status.busy": "2024-02-12T03:29:23.217585Z",
     "iopub.status.idle": "2024-02-12T03:29:29.513388Z",
     "shell.execute_reply": "2024-02-12T03:29:29.510880Z"
    },
    "papermill": {
     "duration": 6.333654,
     "end_time": "2024-02-12T03:29:29.515888",
     "exception": false,
     "start_time": "2024-02-12T03:29:23.182234",
     "status": "completed"
    },
    "tags": []
   },
   "outputs": [
    {
     "name": "stderr",
     "output_type": "stream",
     "text": [
      "                                                                                \r"
     ]
    },
    {
     "name": "stdout",
     "output_type": "stream",
     "text": [
      "\n",
      "1) Similarity Score: 0.7214469977876345\n",
      "     title                    listed_in\n",
      "5028  Mute  Sci-Fi & Fantasy, Thrillers\n",
      "mute duncan jones alexander skarsgård, paul rudd, justin theroux sci-fi & fantasy, thrillers when his girlfriend vanishes, a mute man ventures into a near-future berlin's seamy underworld, where his actions speak louder than words.\n",
      "\n",
      "2) Similarity Score: 0.6984603812566813\n",
      "                              title        listed_in\n",
      "5379  Tom Segura: Completely Normal  Stand-Up Comedy\n",
      "tom segura: completely normal jay chapman tom segura stand-up comedy levelheaded stand-up tom segura shares offhand appraisals on hotels and opens up about his hobbies and digestive ailments in this comedy special.\n",
      "\n",
      "3) Similarity Score: 0.6873038727581305\n",
      "           title listed_in\n",
      "527  Puffin Rock  Kids' TV\n",
      "puffin rock chris o'dowd, kate mccafferty, sally mcdaid, geraldine cole, brian mcmonagle, darragh gargan kids' tv life is sweet on beautiful puffin rock, where puffling oona, her baby brother baba and their pals learn about nature, friendship and family.\n",
      "\n",
      "4) Similarity Score: 0.6565739476213008\n",
      "         title                            listed_in\n",
      "4268  Bird Box  Dramas, Sci-Fi & Fantasy, Thrillers\n",
      "bird box susanne bier sandra bullock, trevante rhodes, john malkovich, sarah paulson, bd wong, jacki weaver, rosa salazar, danielle macdonald, lil rel howery, tom hollander dramas, sci-fi & fantasy, thrillers five years after an ominous unseen presence drives most of society to suicide, a survivor and her two children make a desperate bid to reach safety.\n",
      "\n",
      "5) Similarity Score: 0.6443037545767026\n",
      "                              title        listed_in\n",
      "2952  Tom Papa: You're Doing Great!  Stand-Up Comedy\n",
      "tom papa: you're doing great! gregory jacobs tom papa stand-up comedy comedian tom papa takes on body image issues, social media, pets, staten island, the \"old days\" and more in a special from his home state of new jersey.\n"
     ]
    }
   ],
   "source": [
    "# 4.3\n",
    "x = NLP()\n",
    "x.Search('finance business accounting wallstreet money credit bank', mode='long', feature='tfidf')"
   ]
  },
  {
   "cell_type": "markdown",
   "id": "2a5fed0e",
   "metadata": {
    "papermill": {
     "duration": 0.031031,
     "end_time": "2024-02-12T03:29:29.578329",
     "exception": false,
     "start_time": "2024-02-12T03:29:29.547298",
     "status": "completed"
    },
    "tags": []
   },
   "source": [
    "# Summary of the Analysis:\n",
    "\n",
    "- Comedy Context:\n",
    "    - Best Results: The recommendations for the comedy context had the highest relevance.\n",
    "    - Movies Suggested:\n",
    "        - Kya Kehna (Genres: Dramas, International Movies, Romantic Movies)\n",
    "        - Westside vs. the World (Genres: Documentaries, Sports Movies)\n",
    "        - Judwaa (Genres: Comedies, International Movies, Romantic Movies)\n",
    "        - Becoming (Genres: Documentaries)\n",
    "        - Abominable Christmas (Genres: Children & Family Movies, Comedies)\n",
    "- War Context:\n",
    "    - Best Results: The best recommendations for the war context were with parameters: Bag of Words and Short Feature engineering.\n",
    "    - Relevant Words in Recommendations: Words like crime, terrorized, serial killer were very relevant.\n",
    "    - Movies Suggested:\n",
    "        - Kevyn Aucoin: Beauty & the Beast in Me (Genres: Documentaries, LGBTQ Movies)\n",
    "        - Don't Crack Under Pressure II (Genres: Action & Adventure, Documentaries, International Movies)\n",
    "        - Chandani: The Daughter of the Elephant Whisperer (Genres: Documentaries, International Movies)\n",
    "        - Harud (Genres: Dramas, International Movies)\n",
    "        - Ani... Dr. Kashinath Ghanekar (Genres: Dramas, International Movies)\n",
    "- Finance Context:\n",
    "    - Observation: Recommendations for the finance context were not as good, with many results being in the romantic or comedy genres.\n",
    "    - Movies Suggested:\n",
    "        - Mute (Genres: Sci-Fi & Fantasy, Thrillers)\n",
    "        - Tom Segura: Completely Normal (Genre: Stand-Up Comedy)\n",
    "        - Puffin Rock (Genre: Kids' TV)\n",
    "        - Bird Box (Genres: Dramas, Sci-Fi & Fantasy, Thrillers)\n",
    "        - Tom Papa: You're Doing Great! (Genre: Stand-Up Comedy)\n",
    "- General Observations:\n",
    "    - Best Performing Models: Bag of Words and Short Feature engineering provided the best results for the war context.\n",
    "    - TF-IDF Performance: Generally, TF-IDF performed slightly better than Bag of Words, especially for the long context.\n",
    "    - Average Similarity Scores: Overall, TF-IDF had higher average similarity scores than Bag of Words.\n",
    "- TF-IDF Advantages:\n",
    "    - Generally higher average similarity scores.\n",
    "    - Particularly effective for the long context.\n",
    "- Bag of Words Advantages:\n",
    "    - Best performing in the war context, especially with short feature engineering.\n",
    "    - Simplicity and ease of implementation.\n",
    "\n",
    "\n",
    "\n",
    "Feel free to explore the project, contribute, or provide feedback!"
   ]
  },
  {
   "cell_type": "code",
   "execution_count": null,
   "id": "9ac336fb",
   "metadata": {
    "papermill": {
     "duration": 0.031226,
     "end_time": "2024-02-12T03:29:29.639224",
     "exception": false,
     "start_time": "2024-02-12T03:29:29.607998",
     "status": "completed"
    },
    "tags": []
   },
   "outputs": [],
   "source": []
  }
 ],
 "metadata": {
  "kaggle": {
   "accelerator": "none",
   "dataSources": [
    {
     "datasetId": 434238,
     "sourceId": 2654038,
     "sourceType": "datasetVersion"
    }
   ],
   "dockerImageVersionId": 30635,
   "isGpuEnabled": false,
   "isInternetEnabled": true,
   "language": "python",
   "sourceType": "notebook"
  },
  "kernelspec": {
   "display_name": "Python 3",
   "language": "python",
   "name": "python3"
  },
  "language_info": {
   "codemirror_mode": {
    "name": "ipython",
    "version": 3
   },
   "file_extension": ".py",
   "mimetype": "text/x-python",
   "name": "python",
   "nbconvert_exporter": "python",
   "pygments_lexer": "ipython3",
   "version": "3.10.12"
  },
  "papermill": {
   "default_parameters": {},
   "duration": 166.532933,
   "end_time": "2024-02-12T03:29:32.289302",
   "environment_variables": {},
   "exception": null,
   "input_path": "__notebook__.ipynb",
   "output_path": "__notebook__.ipynb",
   "parameters": {},
   "start_time": "2024-02-12T03:26:45.756369",
   "version": "2.4.0"
  }
 },
 "nbformat": 4,
 "nbformat_minor": 5
}
